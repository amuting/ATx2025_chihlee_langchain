{
 "cells": [
  {
   "cell_type": "code",
   "execution_count": 5,
   "id": "bd3c2427",
   "metadata": {},
   "outputs": [
    {
     "name": "stdout",
     "output_type": "stream",
     "text": [
      "2025-09-13 09:43:24.781703\n"
     ]
    }
   ],
   "source": [
    "import datetime\n",
    "\n",
    "\n",
    "print(datetime.datetime.now())"
   ]
  },
  {
   "cell_type": "code",
   "execution_count": 10,
   "id": "06acb18a",
   "metadata": {},
   "outputs": [
    {
     "name": "stdout",
     "output_type": "stream",
     "text": [
      "字串「LangChain很有趣！」的長度是：13\n",
      "數字列表[1, 2, 3, 4, 5]的總和是：15\n",
      "數字列表[1, 2, 3, 4, 5]中的最大值是：5\n",
      "數字列表[1, 2, 3, 4, 5]由大到小排序後為：[5, 4, 3, 2, 1]\n"
     ]
    }
   ],
   "source": [
    "# 使用python 標準函式庫 ,內建的function,建立範例\n",
    "# 範例1：使用len()計算字串長度\n",
    "文字 = \"LangChain很有趣！\"\n",
    "長度 = len(文字)\n",
    "print(f\"字串「{文字}」的長度是：{長度}\")\n",
    "\n",
    "# 範例2：使用sum()計算數字總和\n",
    "數字列表 = [1, 2, 3, 4, 5]\n",
    "總和 = sum(數字列表)\n",
    "print(f\"數字列表{數字列表}的總和是：{總和}\")\n",
    "\n",
    "# 範例3：使用max()找出最大值\n",
    "最大值 = max(數字列表)\n",
    "print(f\"數字列表{數字列表}中的最大值是：{最大值}\")\n",
    "\n",
    "# 範例4：使用sorted()排序\n",
    "排序後 = sorted(數字列表, reverse=True)\n",
    "print(f\"數字列表{數字列表}由大到小排序後為：{排序後}\")\n",
    "\n",
    "# 範例5：使用input()取得使用者輸入\n",
    "# name = input(\"請輸入你的名字：\")\n",
    "# print(f\"你好，{name}！\")\n",
    "\n"
   ]
  },
  {
   "cell_type": "code",
   "execution_count": null,
   "id": "0dc07774",
   "metadata": {},
   "outputs": [
    {
     "data": {
      "text/plain": [
       "9"
      ]
     },
     "execution_count": 9,
     "metadata": {},
     "output_type": "execute_result"
    }
   ],
   "source": [
    "# ipynb程式空間 \n",
    "# import datetime, 命名空間(namespace) 內建model, class datetime, classmethod , datetime.today(),datetime.now()\n",
    "# random.randint(a,b)\n",
    "import random\n",
    "a=1\n",
    "b=10\n",
    "random.randint(a,b)\n",
    "# print(123)"
   ]
  },
  {
   "cell_type": "code",
   "execution_count": null,
   "id": "68dab2f4",
   "metadata": {},
   "outputs": [],
   "source": [
    "import os\n",
    "# https://docs.python.org/zh-tw/3/library/index.html\n",
    "# os --- 各種作業系統介面\n",
    "# https://docs.python.org/zh-tw/3/library/os.html\n",
    "# python的 os.getcwd() 的說明書和如何使用?"
   ]
  },
  {
   "cell_type": "code",
   "execution_count": null,
   "id": "77978460",
   "metadata": {},
   "outputs": [],
   "source": [
    "# 使用python 標準函式庫 ,內建的(模組Model,套件package)"
   ]
  },
  {
   "cell_type": "code",
   "execution_count": null,
   "id": "e040bd92",
   "metadata": {},
   "outputs": [],
   "source": [
    "# function,class,常數"
   ]
  },
  {
   "cell_type": "code",
   "execution_count": 11,
   "id": "2e5f4cc8",
   "metadata": {},
   "outputs": [
    {
     "name": "stdout",
     "output_type": "stream",
     "text": [
      "現在的日期與時間：2025-09-13 10:15:22.206491\n",
      "隨機產生的整數：74\n",
      "目前的工作目錄：c:\\Users\\USER1B\\Documents\\GitHub_clone\\ATx2025_chihlee_langchain\\lesson3\n"
     ]
    }
   ],
   "source": [
    "# 使用 Python 內建標準函式庫建立範例，包含 datetime、random、os\n",
    "\n",
    "import datetime\n",
    "import random\n",
    "import os\n",
    "\n",
    "# datetime 範例：取得現在的日期與時間\n",
    "現在時間 = datetime.datetime.now()\n",
    "print(f\"現在的日期與時間：{現在時間}\")\n",
    "\n",
    "# random 範例：產生 1 到 100 之間的隨機整數\n",
    "隨機數 = random.randint(1, 100)\n",
    "print(f\"隨機產生的整數：{隨機數}\")\n",
    "\n",
    "# os 範例：取得目前工作目錄\n",
    "目前目錄 = os.getcwd()\n",
    "print(f\"目前的工作目錄：{目前目錄}\")"
   ]
  },
  {
   "cell_type": "code",
   "execution_count": null,
   "id": "15020e7c",
   "metadata": {},
   "outputs": [],
   "source": [
    "# 外部模組"
   ]
  },
  {
   "cell_type": "markdown",
   "id": "883037c9",
   "metadata": {},
   "source": [
    "### 利用 Python 的外部套件 requests，說明外部套件的安裝與使用方法\n",
    "\n",
    "### 安裝 requests 套件（在終端機執行以下指令）\n",
    "### pip install requests\n",
    "\n",
    "import requests\n",
    "\n",
    "### 使用 requests 取得一個網頁的內容\n",
    "response = requests.get(\"https://www.google.com\")\n",
    "print(f\"HTTP 狀態碼：{response.status_code}\")\n",
    "print(f\"網頁內容前100字：\\n{response.text[:100]}\")\n"
   ]
  },
  {
   "cell_type": "code",
   "execution_count": 2,
   "id": "ae2c4a00",
   "metadata": {},
   "outputs": [
    {
     "ename": "SyntaxError",
     "evalue": "invalid syntax (1619862723.py, line 1)",
     "output_type": "error",
     "traceback": [
      "  \u001b[36mCell\u001b[39m\u001b[36m \u001b[39m\u001b[32mIn[2]\u001b[39m\u001b[32m, line 1\u001b[39m\n\u001b[31m    \u001b[39m\u001b[31mpip install requests\u001b[39m\n        ^\n\u001b[31mSyntaxError\u001b[39m\u001b[31m:\u001b[39m invalid syntax\n"
     ]
    }
   ],
   "source": [
    "pip install requests\n",
    "\n"
   ]
  },
  {
   "cell_type": "code",
   "execution_count": null,
   "id": "8c59a9db",
   "metadata": {},
   "outputs": [
    {
     "name": "stdout",
     "output_type": "stream",
     "text": [
      "HTTP 狀態碼：200\n",
      "網頁內容前100字：\n",
      "<!doctype html><html itemscope=\"\" itemtype=\"http://schema.org/WebPage\" lang=\"zh-TW\"><head><meta cont\n"
     ]
    }
   ],
   "source": [
    "# pip install requests\n",
    "import requests\n",
    "\n",
    "### 使用 requests 取得一個網頁的內容\n",
    "response = requests.get(\"https://www.google.com\")\n",
    "print(f\"HTTP 狀態碼：{response.status_code}\")\n",
    "print(f\"網頁內容前100字：\\n{response.text[:100]}\")\n"
   ]
  },
  {
   "cell_type": "code",
   "execution_count": null,
   "id": "2e0d3ff3",
   "metadata": {},
   "outputs": [],
   "source": [
    "# 物件 (object)-> 實體 (instance)"
   ]
  },
  {
   "cell_type": "code",
   "execution_count": null,
   "id": "18cf5321",
   "metadata": {},
   "outputs": [],
   "source": [
    "# respnose:Response #物件,實體 , class Response ,request(Module)\n",
    "# get() , requests.get() , function, class, "
   ]
  }
 ],
 "metadata": {
  "kernelspec": {
   "display_name": "langchain2",
   "language": "python",
   "name": "python3"
  },
  "language_info": {
   "codemirror_mode": {
    "name": "ipython",
    "version": 3
   },
   "file_extension": ".py",
   "mimetype": "text/x-python",
   "name": "python",
   "nbconvert_exporter": "python",
   "pygments_lexer": "ipython3",
   "version": "3.11.13"
  }
 },
 "nbformat": 4,
 "nbformat_minor": 5
}
