{
 "cells": [
  {
   "cell_type": "code",
   "execution_count": null,
   "id": "124e628a",
   "metadata": {},
   "outputs": [],
   "source": [
    "import requests\n",
    "\n",
    "url = 'http://localhost:11434/api/generate'\n",
    "\n",
    "data = {\n",
    "    \"model\":\"llama3.2\",\n",
    "    \"prompt\":\"Why is the sky blue?\"\n",
    "}\n",
    "\n",
    "response = requests.post(url, json=data)\n",
    "\n",
    "print(response.status_code)\n",
    "# print(type(response))\n",
    "if response.status_code==200:\n",
    "    print(\"成功下載\")\n",
    "    print(response.text)\n",
    "else:\n",
    "    print(\"失敗下載\")"
   ]
  },
  {
   "cell_type": "code",
   "execution_count": 7,
   "id": "aae48f38",
   "metadata": {},
   "outputs": [
    {
     "name": "stdout",
     "output_type": "stream",
     "text": [
      "200\n",
      "成功下載\n",
      "<class 'str'>\n"
     ]
    }
   ],
   "source": [
    "import requests\n",
    "\n",
    "url = 'http://localhost:11434/api/generate'\n",
    "\n",
    "data = {\n",
    "    \"model\":\"llama3.2\",\n",
    "    \"prompt\":\"天空為什麼是藍的?\",\n",
    "    \"stream\":False\n",
    "}\n",
    "\n",
    "response = requests.post(url, json=data)\n",
    "\n",
    "print(response.status_code)\n",
    "# print(type(response))\n",
    "if response.status_code==200:\n",
    "    print(\"成功下載\")\n",
    "    # print(response.text)\n",
    "    print(type(response.text))\n",
    "else:\n",
    "    print(\"失敗下載\")"
   ]
  }
 ],
 "metadata": {
  "kernelspec": {
   "display_name": "langchain2",
   "language": "python",
   "name": "python3"
  },
  "language_info": {
   "codemirror_mode": {
    "name": "ipython",
    "version": 3
   },
   "file_extension": ".py",
   "mimetype": "text/x-python",
   "name": "python",
   "nbconvert_exporter": "python",
   "pygments_lexer": "ipython3",
   "version": "3.11.13"
  }
 },
 "nbformat": 4,
 "nbformat_minor": 5
}
