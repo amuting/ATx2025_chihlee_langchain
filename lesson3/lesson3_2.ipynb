{
 "cells": [
  {
   "cell_type": "code",
   "execution_count": null,
   "id": "606578aa",
   "metadata": {},
   "outputs": [],
   "source": [
    "import requests"
   ]
  },
  {
   "cell_type": "code",
   "execution_count": 1,
   "id": "2e7dc52b",
   "metadata": {},
   "outputs": [
    {
     "data": {
      "text/plain": [
       "'\\ncurl http://localhost:11434/api/generate -d \\'{\\n  \"model\": \"llama3.2\",\\n  \"prompt\":\"Why is the sky blue?\"\\n}\\'\\n'"
      ]
     },
     "execution_count": 1,
     "metadata": {},
     "output_type": "execute_result"
    }
   ],
   "source": [
    "'''\n",
    "curl http://localhost:11434/api/generate -d '{\n",
    "  \"model\": \"llama3.2\",\n",
    "  \"prompt\":\"Why is the sky blue?\"\n",
    "}'\n",
    "'''"
   ]
  },
  {
   "cell_type": "code",
   "execution_count": 2,
   "id": "66765aef",
   "metadata": {},
   "outputs": [
    {
     "name": "stdout",
     "output_type": "stream",
     "text": [
      "狀態碼: 200\n"
     ]
    },
    {
     "ename": "JSONDecodeError",
     "evalue": "Extra data: line 2 column 1 (char 95)",
     "output_type": "error",
     "traceback": [
      "\u001b[31m---------------------------------------------------------------------------\u001b[39m",
      "\u001b[31mJSONDecodeError\u001b[39m                           Traceback (most recent call last)",
      "\u001b[36mFile \u001b[39m\u001b[32mc:\\Users\\USER1B\\.conda\\envs\\langchain2\\Lib\\site-packages\\requests\\models.py:965\u001b[39m, in \u001b[36mResponse.json\u001b[39m\u001b[34m(self, **kwargs)\u001b[39m\n\u001b[32m    964\u001b[39m \u001b[38;5;28;01mtry\u001b[39;00m:\n\u001b[32m--> \u001b[39m\u001b[32m965\u001b[39m     \u001b[38;5;28;01mreturn\u001b[39;00m \u001b[43mcomplexjson\u001b[49m\u001b[43m.\u001b[49m\u001b[43mloads\u001b[49m\u001b[43m(\u001b[49m\u001b[38;5;28;43mself\u001b[39;49m\u001b[43m.\u001b[49m\u001b[43mcontent\u001b[49m\u001b[43m.\u001b[49m\u001b[43mdecode\u001b[49m\u001b[43m(\u001b[49m\u001b[43mencoding\u001b[49m\u001b[43m)\u001b[49m\u001b[43m,\u001b[49m\u001b[43m \u001b[49m\u001b[43m*\u001b[49m\u001b[43m*\u001b[49m\u001b[43mkwargs\u001b[49m\u001b[43m)\u001b[49m\n\u001b[32m    966\u001b[39m \u001b[38;5;28;01mexcept\u001b[39;00m \u001b[38;5;167;01mUnicodeDecodeError\u001b[39;00m:\n\u001b[32m    967\u001b[39m     \u001b[38;5;66;03m# Wrong UTF codec detected; usually because it's not UTF-8\u001b[39;00m\n\u001b[32m    968\u001b[39m     \u001b[38;5;66;03m# but some other 8-bit codec.  This is an RFC violation,\u001b[39;00m\n\u001b[32m    969\u001b[39m     \u001b[38;5;66;03m# and the server didn't bother to tell us what codec *was*\u001b[39;00m\n\u001b[32m    970\u001b[39m     \u001b[38;5;66;03m# used.\u001b[39;00m\n",
      "\u001b[36mFile \u001b[39m\u001b[32mc:\\Users\\USER1B\\.conda\\envs\\langchain2\\Lib\\json\\__init__.py:346\u001b[39m, in \u001b[36mloads\u001b[39m\u001b[34m(s, cls, object_hook, parse_float, parse_int, parse_constant, object_pairs_hook, **kw)\u001b[39m\n\u001b[32m    343\u001b[39m \u001b[38;5;28;01mif\u001b[39;00m (\u001b[38;5;28mcls\u001b[39m \u001b[38;5;129;01mis\u001b[39;00m \u001b[38;5;28;01mNone\u001b[39;00m \u001b[38;5;129;01mand\u001b[39;00m object_hook \u001b[38;5;129;01mis\u001b[39;00m \u001b[38;5;28;01mNone\u001b[39;00m \u001b[38;5;129;01mand\u001b[39;00m\n\u001b[32m    344\u001b[39m         parse_int \u001b[38;5;129;01mis\u001b[39;00m \u001b[38;5;28;01mNone\u001b[39;00m \u001b[38;5;129;01mand\u001b[39;00m parse_float \u001b[38;5;129;01mis\u001b[39;00m \u001b[38;5;28;01mNone\u001b[39;00m \u001b[38;5;129;01mand\u001b[39;00m\n\u001b[32m    345\u001b[39m         parse_constant \u001b[38;5;129;01mis\u001b[39;00m \u001b[38;5;28;01mNone\u001b[39;00m \u001b[38;5;129;01mand\u001b[39;00m object_pairs_hook \u001b[38;5;129;01mis\u001b[39;00m \u001b[38;5;28;01mNone\u001b[39;00m \u001b[38;5;129;01mand\u001b[39;00m \u001b[38;5;129;01mnot\u001b[39;00m kw):\n\u001b[32m--> \u001b[39m\u001b[32m346\u001b[39m     \u001b[38;5;28;01mreturn\u001b[39;00m \u001b[43m_default_decoder\u001b[49m\u001b[43m.\u001b[49m\u001b[43mdecode\u001b[49m\u001b[43m(\u001b[49m\u001b[43ms\u001b[49m\u001b[43m)\u001b[49m\n\u001b[32m    347\u001b[39m \u001b[38;5;28;01mif\u001b[39;00m \u001b[38;5;28mcls\u001b[39m \u001b[38;5;129;01mis\u001b[39;00m \u001b[38;5;28;01mNone\u001b[39;00m:\n",
      "\u001b[36mFile \u001b[39m\u001b[32mc:\\Users\\USER1B\\.conda\\envs\\langchain2\\Lib\\json\\decoder.py:340\u001b[39m, in \u001b[36mJSONDecoder.decode\u001b[39m\u001b[34m(self, s, _w)\u001b[39m\n\u001b[32m    339\u001b[39m \u001b[38;5;28;01mif\u001b[39;00m end != \u001b[38;5;28mlen\u001b[39m(s):\n\u001b[32m--> \u001b[39m\u001b[32m340\u001b[39m     \u001b[38;5;28;01mraise\u001b[39;00m JSONDecodeError(\u001b[33m\"\u001b[39m\u001b[33mExtra data\u001b[39m\u001b[33m\"\u001b[39m, s, end)\n\u001b[32m    341\u001b[39m \u001b[38;5;28;01mreturn\u001b[39;00m obj\n",
      "\u001b[31mJSONDecodeError\u001b[39m: Extra data: line 2 column 1 (char 95)",
      "\nDuring handling of the above exception, another exception occurred:\n",
      "\u001b[31mJSONDecodeError\u001b[39m                           Traceback (most recent call last)",
      "\u001b[36mCell\u001b[39m\u001b[36m \u001b[39m\u001b[32mIn[2]\u001b[39m\u001b[32m, line 20\u001b[39m\n\u001b[32m     18\u001b[39m \u001b[38;5;66;03m# 取得回應內容\u001b[39;00m\n\u001b[32m     19\u001b[39m \u001b[38;5;28;01mif\u001b[39;00m response.status_code == \u001b[32m200\u001b[39m:\n\u001b[32m---> \u001b[39m\u001b[32m20\u001b[39m     result = \u001b[43mresponse\u001b[49m\u001b[43m.\u001b[49m\u001b[43mjson\u001b[49m\u001b[43m(\u001b[49m\u001b[43m)\u001b[49m\n\u001b[32m     21\u001b[39m     \u001b[38;5;28mprint\u001b[39m(\u001b[33m\"\u001b[39m\u001b[33m回應內容:\u001b[39m\u001b[33m\"\u001b[39m)\n\u001b[32m     22\u001b[39m     \u001b[38;5;28mprint\u001b[39m(result)\n",
      "\u001b[36mFile \u001b[39m\u001b[32mc:\\Users\\USER1B\\.conda\\envs\\langchain2\\Lib\\site-packages\\requests\\models.py:973\u001b[39m, in \u001b[36mResponse.json\u001b[39m\u001b[34m(self, **kwargs)\u001b[39m\n\u001b[32m    971\u001b[39m             \u001b[38;5;28;01mpass\u001b[39;00m\n\u001b[32m    972\u001b[39m         \u001b[38;5;28;01mexcept\u001b[39;00m JSONDecodeError \u001b[38;5;28;01mas\u001b[39;00m e:\n\u001b[32m--> \u001b[39m\u001b[32m973\u001b[39m             \u001b[38;5;28;01mraise\u001b[39;00m RequestsJSONDecodeError(e.msg, e.doc, e.pos)\n\u001b[32m    975\u001b[39m \u001b[38;5;28;01mtry\u001b[39;00m:\n\u001b[32m    976\u001b[39m     \u001b[38;5;28;01mreturn\u001b[39;00m complexjson.loads(\u001b[38;5;28mself\u001b[39m.text, **kwargs)\n",
      "\u001b[31mJSONDecodeError\u001b[39m: Extra data: line 2 column 1 (char 95)"
     ]
    }
   ],
   "source": [
    "import requests\n",
    "\n",
    "# 將您的 curl 命令轉換成 requests\n",
    "url = \"http://localhost:11434/api/generate\"\n",
    "\n",
    "# 準備請求的資料 (JSON 格式)\n",
    "data = {\n",
    "    \"model\": \"llama3.2\",\n",
    "    \"prompt\": \"Why is the sky blue?\"\n",
    "}\n",
    "\n",
    "# 發送 POST 請求 (因為 curl 使用了 -d 參數)\n",
    "response = requests.post(url, json=data)\n",
    "\n",
    "# 檢查回應狀態\n",
    "print(f\"狀態碼: {response.status_code}\")\n",
    "\n",
    "# 取得回應內容\n",
    "if response.status_code == 200:\n",
    "    result = response.json()\n",
    "    print(\"回應內容:\")\n",
    "    print(result)\n",
    "else:\n",
    "    print(f\"請求失敗: {response.text}\")"
   ]
  },
  {
   "cell_type": "code",
   "execution_count": null,
   "id": "deab4595",
   "metadata": {},
   "outputs": [
    {
     "name": "stdout",
     "output_type": "stream",
     "text": [
      "請求發生錯誤: Extra data: line 2 column 1 (char 95)\n"
     ]
    }
   ],
   "source": [
    "# 另一種寫法：使用 data 參數而不是 json 參數\n",
    "import requests\n",
    "import json\n",
    "\n",
    "url = \"http://localhost:11434/api/generate\"\n",
    "\n",
    "# 方法1：使用 json 參數 (推薦)\n",
    "data = {\n",
    "    \"model\": \"llama3.2\",\n",
    "    \"prompt\": \"Why is the sky blue?\"\n",
    "}\n",
    "\n",
    "try:\n",
    "    response = requests.post(url, json=data)\n",
    "    response.raise_for_status()  # 如果狀態碼不是 2xx，會拋出異常\n",
    "    result = response.json()\n",
    "    print(\"成功取得回應:\")\n",
    "    print(result)\n",
    "except requests.exceptions.RequestException as e:\n",
    "    print(f\"請求發生錯誤: {e}\")\n",
    "except json.JSONDecodeError as e:\n",
    "    print(f\"JSON 解析錯誤: {e}\")\n",
    "    print(f\"原始回應: {response.text}\")\n"
   ]
  },
  {
   "cell_type": "code",
   "execution_count": null,
   "id": "a9c79a81",
   "metadata": {},
   "outputs": [],
   "source": [
    "# 方法2：使用 data 參數 (需要手動轉換 JSON 字串)\n",
    "import requests\n",
    "import json\n",
    "\n",
    "url = \"http://localhost:11434/api/generate\"\n",
    "\n",
    "data = {\n",
    "    \"model\": \"llama3.2\",\n",
    "    \"prompt\": \"Why is the sky blue?\"\n",
    "}\n",
    "\n",
    "# 手動將字典轉換為 JSON 字串\n",
    "json_data = json.dumps(data)\n",
    "\n",
    "# 設定 Content-Type header\n",
    "headers = {\n",
    "    \"Content-Type\": \"application/json\"\n",
    "}\n",
    "\n",
    "response = requests.post(url, data=json_data, headers=headers)\n",
    "\n",
    "print(f\"狀態碼: {response.status_code}\")\n",
    "if response.status_code == 200:\n",
    "    result = response.json()\n",
    "    print(\"回應內容:\")\n",
    "    print(result)\n",
    "else:\n",
    "    print(f\"請求失敗: {response.text}\")\n"
   ]
  },
  {
   "cell_type": "markdown",
   "id": "c8a406fb",
   "metadata": {},
   "source": [
    "## 📝 curl 轉換成 requests 的說明\n",
    "\n",
    "### 🔄 轉換要點：\n",
    "\n",
    "1. **HTTP 方法**：`curl -d` 表示發送 POST 請求，所以使用 `requests.post()`\n",
    "\n",
    "2. **URL**：直接使用相同的 URL\n",
    "\n",
    "3. **資料格式**：\n",
    "   - `curl -d` 後面的 JSON 資料變成 Python 字典\n",
    "   - 使用 `json=data` 參數自動處理 Content-Type 和 JSON 編碼\n",
    "\n",
    "### 🎯 兩種主要方法：\n",
    "\n",
    "**方法1（推薦）**：使用 `json` 參數\n",
    "```python\n",
    "response = requests.post(url, json=data)\n",
    "```\n",
    "\n",
    "**方法2**：使用 `data` 參數 + 手動 JSON 編碼\n",
    "```python\n",
    "response = requests.post(url, data=json.dumps(data), headers={'Content-Type': 'application/json'})\n",
    "```\n",
    "\n",
    "### ⚠️ 注意事項：\n",
    "- 確保目標伺服器正在運行\n",
    "- 檢查網路連線\n",
    "- 處理可能的錯誤狀況\n"
   ]
  },
  {
   "cell_type": "code",
   "execution_count": null,
   "id": "d7ef0be2",
   "metadata": {},
   "outputs": [
    {
     "name": "stdout",
     "output_type": "stream",
     "text": [
      "狀態碼: 500\n",
      "請求失敗: {\"error\":\"llama runner process has terminated: exit status 2\"}\n"
     ]
    }
   ],
   "source": [
    "import requests\n",
    "\n",
    "# 將您的 curl 命令轉換成 requests\n",
    "url = \"http://localhost:11434/api/generate\"\n",
    "\n",
    "# 準備請求的資料 (JSON 格式)\n",
    "data = {\n",
    "    \"model\": \"llama3.2\",\n",
    "    \"prompt\": \"Why is the sky blue?\"\n",
    "}\n",
    "\n",
    "# 發送 POST 請求 (因為 curl 使用了 -d 參數)\n",
    "response = requests.post(url, json=data)\n",
    "\n",
    "# 檢查回應狀態\n",
    "print(f\"狀態碼: {response.status_code}\")\n",
    "\n",
    "# 取得回應內容\n",
    "if response.status_code == 200:\n",
    "    result = response.json()\n",
    "    print(\"回應內容:\")\n",
    "    print(result)\n",
    "else:\n",
    "    print(f\"請求失敗: {response.text}\")"
   ]
  }
 ],
 "metadata": {
  "kernelspec": {
   "display_name": "langchain2",
   "language": "python",
   "name": "python3"
  },
  "language_info": {
   "codemirror_mode": {
    "name": "ipython",
    "version": 3
   },
   "file_extension": ".py",
   "mimetype": "text/x-python",
   "name": "python",
   "nbconvert_exporter": "python",
   "pygments_lexer": "ipython3",
   "version": "3.11.13"
  }
 },
 "nbformat": 4,
 "nbformat_minor": 5
}
