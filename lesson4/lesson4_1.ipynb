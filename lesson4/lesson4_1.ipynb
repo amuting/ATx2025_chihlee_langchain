{
 "cells": [
  {
   "cell_type": "code",
   "execution_count": 2,
   "id": "1f24fca9",
   "metadata": {},
   "outputs": [
    {
     "name": "stdout",
     "output_type": "stream",
     "text": [
      "hello\n",
      "2025-10-25 10:13:47.770073\n"
     ]
    }
   ],
   "source": [
    "import datetime\n",
    "print('hello')\n",
    "print(datetime.datetime.now()) # import datetime"
   ]
  },
  {
   "cell_type": "code",
   "execution_count": 3,
   "id": "c03841c7",
   "metadata": {},
   "outputs": [
    {
     "name": "stdout",
     "output_type": "stream",
     "text": [
      "<class 'langchain_core.messages.ai.AIMessage'>\n",
      "2025-10-25 10:13:59.080303\n",
      "所有答案:  content='81除以9等于9。\\n\\n81 / 9 = 9\\n' additional_kwargs={} response_metadata={'model': 'gemma3:1b', 'created_at': '2025-10-25T02:13:59.0748521Z', 'done': True, 'done_reason': 'stop', 'total_duration': 6050465400, 'load_duration': 4517311800, 'prompt_eval_count': 18, 'prompt_eval_duration': 331645100, 'eval_count': 19, 'eval_duration': 1116677600, 'model_name': 'gemma3:1b'} id='run--363f68f0-2663-4741-8d1a-2b1772edf909-0' usage_metadata={'input_tokens': 18, 'output_tokens': 19, 'total_tokens': 37}\n",
      "回答內容是:  81除以9等于9。\n",
      "\n",
      "81 / 9 = 9\n",
      "\n"
     ]
    }
   ],
   "source": [
    "import datetime\n",
    "from langchain_ollama import ChatOllama\n",
    "\n",
    "\n",
    "# Create a ChatOllama model\n",
    "# 透過網址的方式連結ollama (指定 base_url 指向 Ollama server)\n",
    "# 預設 Ollama server 在本機的 11434 埠，若在其他主機或埠請改成相對應的網址\n",
    "\n",
    "# model = ChatOllama(model=\"llama3.2:latest\", base_url=\"http://host.docker.internal:11434\")\n",
    "# model = ChatOllama(model=\"llama3.2:latest\",base_url=\"http://localhost:11434\")\n",
    "model = ChatOllama(model=\"gemma3:1b\",base_url=\"http://localhost:11434\")\n",
    "\n",
    "# Invoke the model with a message\n",
    "# result = model.invoke(\"(繁體中文回答)81除以9的答案是?\")\n",
    "Query1=\"用繁體中文回答,天空為什麼是黃灰色?\"\n",
    "Query1=\"用繁體中文回答,為什麼要說謝謝?\"\n",
    "Query1=\"用繁體中文回答,為什麼星期六休息?\"\n",
    "Query1=\"81除以9的答案是?\"\n",
    "result = model.invoke(Query1)\n",
    "print(type(result))\n",
    "print(datetime.datetime.now()) # import datetime\n",
    "print(\"所有答案: \" ,result)\n",
    "print(\"回答內容是: \" ,result.content)\n"
   ]
  },
  {
   "cell_type": "code",
   "execution_count": 4,
   "id": "4a70170e",
   "metadata": {},
   "outputs": [],
   "source": [
    "# Note: you may need to restart the kernel to use updated packages.\n",
    "# c:\\Users\\user4\\Documents\\Github_Clone\\ATx2025_chihlee_langchain\\.venv\\Scripts\\python.exe: No module named pip\n",
    "\n",
    "# 終端機安裝% uv pip install pip"
   ]
  },
  {
   "cell_type": "code",
   "execution_count": 5,
   "id": "422075bb",
   "metadata": {},
   "outputs": [
    {
     "data": {
      "text/plain": [
       "'\\nuv sync\\nuv pip install --upgrade pip\\nUV pip install ipykernel\\n'"
      ]
     },
     "execution_count": 5,
     "metadata": {},
     "output_type": "execute_result"
    }
   ],
   "source": [
    "# pip install python-dotenv\n",
    "'''\n",
    "uv sync\n",
    "uv pip install --upgrade pip\n",
    "UV pip install ipykernel\n",
    "'''\n"
   ]
  },
  {
   "cell_type": "markdown",
   "id": "90865a6d",
   "metadata": {},
   "source": [
    "### ModuleNotFoundError: No module named 'langchain_google_genai'\n",
    "### .env\n",
    "* google ai studio\n",
    "* https://aistudio.google.com/prompts/new_chat\n",
    "* https://aistudio.google.com/api-keys\n",
    "* GOOGLE_API_KEY=**\n",
    "\n",
    "### .evn + GOOGLE_API_KEY=**"
   ]
  },
  {
   "cell_type": "code",
   "execution_count": 6,
   "id": "8c45a7b4",
   "metadata": {},
   "outputs": [
    {
     "name": "stdout",
     "output_type": "stream",
     "text": [
      "json_data,答案:  這是一個很有趣的問題，但要給出一個精確的數字非常困難，因為它取決於多個變數。不過，我可以給你一個**約莫的數字範圍**，並解釋背後的假設。\n",
      "\n",
      "首先，我們需要將「100W的用電量」解釋為一個**總能量預算**。通常，當我們談論用電量來完成任務時，會指一個時間段內的總能量消耗，例如100瓦時 (Wh)。如果只是指100W的功率，那麼只要持續供電，理論上可以回答無限個問題。\n",
      "\n",
      "**假設：**\n",
      "\n",
      "1.  **總能量預算：** 我們假設這100W指的是 **100瓦時 (Wh)** 的總能量。\n",
      "2.  **單次回答的能量消耗：** 回答一個問題所需的能量差異巨大，取決於：\n",
      "    *   **問題的複雜度：** 越複雜、越長的回答，需要越多的計算資源，消耗的能量也越多。\n",
      "    *   **模型的大小和效率：** 大型語言模型比小型模型消耗更多能量。模型的優化程度也會影響效率。\n",
      "    *   **運行硬體：** 使用哪種GPU/CPU，其效率如何。\n",
      "    *   **數據中心的效率：** 伺服器、散熱等基礎設施的能耗。\n",
      "\n",
      "**估算：**\n",
      "\n",
      "根據目前對大型語言模型（如我）單次查詢（inference）的能耗估計，一個中等複雜度的問題，從幾十焦耳（Joule）到幾百焦耳不等。\n",
      "\n",
      "*   1 瓦時 (Wh) = 3600 焦耳 (J)\n",
      "*   所以 100 Wh = 360,000 焦耳 (J)\n",
      "\n",
      "如果我們假設：\n",
      "*   **一個簡單的回答** 大約消耗 **36 焦耳 (0.01 Wh)**\n",
      "*   **一個中等複雜度的回答** 大約消耗 **180 焦耳 (0.05 Wh)**\n",
      "*   **一個複雜或較長的回答** 大約消耗 **360 焦耳 (0.1 Wh)**\n",
      "\n",
      "**計算結果：**\n",
      "\n",
      "*   **非常簡單的問題：** 100 Wh / 0.01 Wh/問題 = **10,000 個問題**\n",
      "*   **中等複雜度的問題：** 100 Wh / 0.05 Wh/問題 = **2,000 個問題**\n",
      "*   **複雜或較長的問題：** 100 Wh / 0.1 Wh/問題 = **1,000 個問題**\n",
      "\n",
      "**結論：**\n",
      "\n",
      "如果給你100瓦時 (Wh) 的用電量（約等於一個小燈泡亮100小時的電量），我大約可以回答：\n",
      "\n",
      "**數千個問題 (通常在 1,000 到 10,000 個之間)**\n",
      "\n",
      "這個數字是一個非常粗略的估計，實際情況會因為上述變數而有很大的差異。\n",
      "===***\n",
      "回答內容是:  這是一個很有趣的問題，但要給出一個精確的數字非常困難，因為它取決於多個變數。不過，我可以給你一個**約莫的數字範圍**，並解釋背後的假設。\n",
      "\n",
      "首先，我們需要將「100W的用電量」解釋為一個**總能量預算**。通常，當我們談論用電量來完成任務時，會指一個時間段內的總能量消耗，例如100瓦時 (Wh)。如果只是指100W的功率，那麼只要持續供電，理論上可以回答無限個問題。\n",
      "\n",
      "**假設：**\n",
      "\n",
      "1.  **總能量預算：** 我們假設這100W指的是 **100瓦時 (Wh)** 的總能量。\n",
      "2.  **單次回答的能量消耗：** 回答一個問題所需的能量差異巨大，取決於：\n",
      "    *   **問題的複雜度：** 越複雜、越長的回答，需要越多的計算資源，消耗的能量也越多。\n",
      "    *   **模型的大小和效率：** 大型語言模型比小型模型消耗更多能量。模型的優化程度也會影響效率。\n",
      "    *   **運行硬體：** 使用哪種GPU/CPU，其效率如何。\n",
      "    *   **數據中心的效率：** 伺服器、散熱等基礎設施的能耗。\n",
      "\n",
      "**估算：**\n",
      "\n",
      "根據目前對大型語言模型（如我）單次查詢（inference）的能耗估計，一個中等複雜度的問題，從幾十焦耳（Joule）到幾百焦耳不等。\n",
      "\n",
      "*   1 瓦時 (Wh) = 3600 焦耳 (J)\n",
      "*   所以 100 Wh = 360,000 焦耳 (J)\n",
      "\n",
      "如果我們假設：\n",
      "*   **一個簡單的回答** 大約消耗 **36 焦耳 (0.01 Wh)**\n",
      "*   **一個中等複雜度的回答** 大約消耗 **180 焦耳 (0.05 Wh)**\n",
      "*   **一個複雜或較長的回答** 大約消耗 **360 焦耳 (0.1 Wh)**\n",
      "\n",
      "**計算結果：**\n",
      "\n",
      "*   **非常簡單的問題：** 100 Wh / 0.01 Wh/問題 = **10,000 個問題**\n",
      "*   **中等複雜度的問題：** 100 Wh / 0.05 Wh/問題 = **2,000 個問題**\n",
      "*   **複雜或較長的問題：** 100 Wh / 0.1 Wh/問題 = **1,000 個問題**\n",
      "\n",
      "**結論：**\n",
      "\n",
      "如果給你100瓦時 (Wh) 的用電量（約等於一個小燈泡亮100小時的電量），我大約可以回答：\n",
      "\n",
      "**數千個問題 (通常在 1,000 到 10,000 個之間)**\n",
      "\n",
      "這個數字是一個非常粗略的估計，實際情況會因為上述變數而有很大的差異。\n"
     ]
    }
   ],
   "source": [
    "from dotenv import load_dotenv\n",
    "from langchain_google_genai import ChatGoogleGenerativeAI\n",
    "\n",
    "# 載入.env,模擬電腦環境變數\n",
    "load_dotenv()\n",
    "\n",
    "# Create a ChatGoogleGenerativeAI model\n",
    "model = ChatGoogleGenerativeAI(model=\"gemini-2.5-flash\")\n",
    "\n",
    "# Invoke the model with a message\n",
    "# result = model.invoke(\"(繁體中文回答)81除以9的答案是?\")\n",
    "Query1=\"用繁體中文回答,天空為什麼是黃灰色?\"\n",
    "Query1=\"用繁體中文回答,為什麼要說謝謝?\"\n",
    "Query1=\"用繁體中文回答,為什麼星期六休息?\"\n",
    "#Query1=\"81除以9的答案是?\"\n",
    "Query1=\"用繁體中文回答,99除以8的答案是?\"\n",
    "Query1=\"請用中文,寫一首關於秋天的詩?\"\n",
    "Query1=\"如果給你100W的用電量,你可以回答多少問題?給我一個約莫數字\"\n",
    "result = model.invoke(Query1)\n",
    "# print(type(result))\n",
    "# print(\"所有答案: \" ,result)\n",
    "json_data=result.to_json()\n",
    "print(\"json_data,答案: \" ,json_data[\"kwargs\"][\"content\"])\n",
    "print(\"===***\")\n",
    "print(\"回答內容是: \" ,result.content)"
   ]
  }
 ],
 "metadata": {
  "kernelspec": {
   "display_name": ".venv",
   "language": "python",
   "name": "python3"
  },
  "language_info": {
   "codemirror_mode": {
    "name": "ipython",
    "version": 3
   },
   "file_extension": ".py",
   "mimetype": "text/x-python",
   "name": "python",
   "nbconvert_exporter": "python",
   "pygments_lexer": "ipython3",
   "version": "3.10.18"
  }
 },
 "nbformat": 4,
 "nbformat_minor": 5
}
