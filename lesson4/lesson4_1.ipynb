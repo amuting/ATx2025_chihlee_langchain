{
 "cells": [
  {
   "cell_type": "code",
   "execution_count": 1,
   "id": "1f24fca9",
   "metadata": {},
   "outputs": [
    {
     "name": "stdout",
     "output_type": "stream",
     "text": [
      "hello\n"
     ]
    }
   ],
   "source": [
    "print('hello')"
   ]
  },
  {
   "cell_type": "code",
   "execution_count": 2,
   "id": "c03841c7",
   "metadata": {},
   "outputs": [
    {
     "name": "stdout",
     "output_type": "stream",
     "text": [
      "<class 'langchain_core.messages.ai.AIMessage'>\n",
      "所有答案:  content='81除以9等于9。\\n\\n81 ÷ 9 = 9\\n' additional_kwargs={} response_metadata={'model': 'gemma3:1b', 'created_at': '2025-09-20T11:05:05.4209242Z', 'done': True, 'done_reason': 'stop', 'total_duration': 5122416800, 'load_duration': 4108887500, 'prompt_eval_count': 18, 'prompt_eval_duration': 673559100, 'eval_count': 19, 'eval_duration': 334974000, 'model_name': 'gemma3:1b'} id='run--8308424b-08f4-4e86-a879-06d5fe86a4b4-0' usage_metadata={'input_tokens': 18, 'output_tokens': 19, 'total_tokens': 37}\n",
      "回答內容是:  81除以9等于9。\n",
      "\n",
      "81 ÷ 9 = 9\n",
      "\n"
     ]
    }
   ],
   "source": [
    "from langchain_ollama import ChatOllama\n",
    "\n",
    "\n",
    "# Create a ChatOllama model\n",
    "# 透過網址的方式連結ollama (指定 base_url 指向 Ollama server)\n",
    "# 預設 Ollama server 在本機的 11434 埠，若在其他主機或埠請改成相對應的網址\n",
    "\n",
    "# model = ChatOllama(model=\"llama3.2:latest\", base_url=\"http://host.docker.internal:11434\")\n",
    "# model = ChatOllama(model=\"llama3.2:latest\",base_url=\"http://localhost:11434\")\n",
    "model = ChatOllama(model=\"gemma3:1b\",base_url=\"http://localhost:11434\")\n",
    "\n",
    "# Invoke the model with a message\n",
    "# result = model.invoke(\"(繁體中文回答)81除以9的答案是?\")\n",
    "Query1=\"用繁體中文回答,天空為什麼是黃灰色?\"\n",
    "Query1=\"用繁體中文回答,為什麼要說謝謝?\"\n",
    "Query1=\"用繁體中文回答,為什麼星期六休息?\"\n",
    "Query1=\"81除以9的答案是?\"\n",
    "result = model.invoke(Query1)\n",
    "print(type(result))\n",
    "print(\"所有答案: \" ,result)\n",
    "print(\"回答內容是: \" ,result.content)\n"
   ]
  },
  {
   "cell_type": "code",
   "execution_count": null,
   "id": "8c45a7b4",
   "metadata": {},
   "outputs": [],
   "source": [
    "from dotenv import load_dotenv\n",
    "from langchain_google_genai import ChatGoogleGenerativeAI\n",
    "\n",
    "# 載入.env,模擬電腦環境變數\n",
    "load_dotenv()\n",
    "\n",
    "# Create a ChatGoogleGenerativeAI model\n",
    "model = ChatGoogleGenerativeAI(model=\"gemini-2.5-flash\")\n",
    "\n",
    "# Invoke the model with a message\n",
    "# result = model.invoke(\"(繁體中文回答)81除以9的答案是?\")\n",
    "Query1=\"用繁體中文回答,天空為什麼是黃灰色?\"\n",
    "Query1=\"用繁體中文回答,為什麼要說謝謝?\"\n",
    "Query1=\"用繁體中文回答,為什麼星期六休息?\"\n",
    "#Query1=\"81除以9的答案是?\"\n",
    "Query1=\"用繁體中文回答,99除以8的答案是?\"\n",
    "Query1=\"請用中文,寫一首關於秋天的詩?\"\n",
    "Query1=\"如果給你100W的用電量,你可以回答多少問題?給我一個約莫數字\"\n",
    "result = model.invoke(Query1)\n",
    "# print(type(result))\n",
    "# print(\"所有答案: \" ,result)\n",
    "json_data=result.to_json()\n",
    "print(\"json_data,答案: \" ,json_data[\"kwargs\"][\"content\"])\n",
    "print(\"===***\")\n",
    "print(\"回答內容是: \" ,result.content)\n"
   ]
  }
 ],
 "metadata": {
  "kernelspec": {
   "display_name": ".venv",
   "language": "python",
   "name": "python3"
  },
  "language_info": {
   "codemirror_mode": {
    "name": "ipython",
    "version": 3
   },
   "file_extension": ".py",
   "mimetype": "text/x-python",
   "name": "python",
   "nbconvert_exporter": "python",
   "pygments_lexer": "ipython3",
   "version": "3.11.13"
  }
 },
 "nbformat": 4,
 "nbformat_minor": 5
}
