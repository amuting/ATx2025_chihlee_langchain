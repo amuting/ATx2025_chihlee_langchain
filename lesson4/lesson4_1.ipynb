{
 "cells": [
  {
   "cell_type": "code",
   "execution_count": 13,
   "id": "1f24fca9",
   "metadata": {},
   "outputs": [
    {
     "name": "stdout",
     "output_type": "stream",
     "text": [
      "hello\n",
      "2025-09-27 09:14:57.555201\n"
     ]
    }
   ],
   "source": [
    "import datetime\n",
    "print('hello')\n",
    "print(datetime.datetime.now()) # import datetime"
   ]
  },
  {
   "cell_type": "code",
   "execution_count": 15,
   "id": "c03841c7",
   "metadata": {},
   "outputs": [
    {
     "name": "stdout",
     "output_type": "stream",
     "text": [
      "<class 'langchain_core.messages.ai.AIMessage'>\n",
      "2025-09-27 09:18:47.822581\n",
      "所有答案:  content='81除以9等于9。\\n\\n81 / 9 = 9\\n' additional_kwargs={} response_metadata={'model': 'gemma3:1b', 'created_at': '2025-09-27T01:18:47.8209222Z', 'done': True, 'done_reason': 'stop', 'total_duration': 1403769800, 'load_duration': 501527900, 'prompt_eval_count': 18, 'prompt_eval_duration': 44057500, 'eval_count': 19, 'eval_duration': 857103000, 'model_name': 'gemma3:1b'} id='run--b39131d5-4ed1-43fb-9fb8-a3f66284984e-0' usage_metadata={'input_tokens': 18, 'output_tokens': 19, 'total_tokens': 37}\n",
      "回答內容是:  81除以9等于9。\n",
      "\n",
      "81 / 9 = 9\n",
      "\n"
     ]
    }
   ],
   "source": [
    "import datetime\n",
    "from langchain_ollama import ChatOllama\n",
    "\n",
    "\n",
    "# Create a ChatOllama model\n",
    "# 透過網址的方式連結ollama (指定 base_url 指向 Ollama server)\n",
    "# 預設 Ollama server 在本機的 11434 埠，若在其他主機或埠請改成相對應的網址\n",
    "\n",
    "# model = ChatOllama(model=\"llama3.2:latest\", base_url=\"http://host.docker.internal:11434\")\n",
    "# model = ChatOllama(model=\"llama3.2:latest\",base_url=\"http://localhost:11434\")\n",
    "model = ChatOllama(model=\"gemma3:1b\",base_url=\"http://localhost:11434\")\n",
    "\n",
    "# Invoke the model with a message\n",
    "# result = model.invoke(\"(繁體中文回答)81除以9的答案是?\")\n",
    "Query1=\"用繁體中文回答,天空為什麼是黃灰色?\"\n",
    "Query1=\"用繁體中文回答,為什麼要說謝謝?\"\n",
    "Query1=\"用繁體中文回答,為什麼星期六休息?\"\n",
    "Query1=\"81除以9的答案是?\"\n",
    "result = model.invoke(Query1)\n",
    "print(type(result))\n",
    "print(datetime.datetime.now()) # import datetime\n",
    "print(\"所有答案: \" ,result)\n",
    "print(\"回答內容是: \" ,result.content)\n"
   ]
  },
  {
   "cell_type": "code",
   "execution_count": null,
   "id": "4a70170e",
   "metadata": {},
   "outputs": [
    {
     "ename": "SyntaxError",
     "evalue": "invalid syntax (3937447261.py, line 4)",
     "output_type": "error",
     "traceback": [
      "  \u001b[36mCell\u001b[39m\u001b[36m \u001b[39m\u001b[32mIn[2]\u001b[39m\u001b[32m, line 4\u001b[39m\n\u001b[31m    \u001b[39m\u001b[31muv pip install pip\u001b[39m\n       ^\n\u001b[31mSyntaxError\u001b[39m\u001b[31m:\u001b[39m invalid syntax\n"
     ]
    }
   ],
   "source": [
    "# Note: you may need to restart the kernel to use updated packages.\n",
    "# c:\\Users\\user4\\Documents\\Github_Clone\\ATx2025_chihlee_langchain\\.venv\\Scripts\\python.exe: No module named pip\n",
    "\n",
    "# 終端機安裝% uv pip install pip"
   ]
  },
  {
   "cell_type": "code",
   "execution_count": 3,
   "id": "422075bb",
   "metadata": {},
   "outputs": [
    {
     "name": "stdout",
     "output_type": "stream",
     "text": [
      "Collecting python-dotenv\n",
      "  Downloading python_dotenv-1.1.1-py3-none-any.whl.metadata (24 kB)\n",
      "Downloading python_dotenv-1.1.1-py3-none-any.whl (20 kB)\n",
      "Installing collected packages: python-dotenv\n",
      "Successfully installed python-dotenv-1.1.1\n",
      "Note: you may need to restart the kernel to use updated packages.\n"
     ]
    }
   ],
   "source": [
    "pip install python-dotenv"
   ]
  },
  {
   "cell_type": "markdown",
   "id": "90865a6d",
   "metadata": {},
   "source": [
    "### ModuleNotFoundError: No module named 'langchain_google_genai'\n",
    "### .env\n",
    "* google ai studio\n",
    "* https://aistudio.google.com/prompts/new_chat\n",
    "* https://aistudio.google.com/api-keys\n",
    "* GOOGLE_API_KEY=**\n",
    "\n",
    "### .evn + GOOGLE_API_KEY=**"
   ]
  },
  {
   "cell_type": "code",
   "execution_count": 1,
   "id": "8c45a7b4",
   "metadata": {},
   "outputs": [
    {
     "name": "stdout",
     "output_type": "stream",
     "text": [
      "json_data,答案:  這是一個很有趣的問題，但要給出精確數字非常困難，因為它取決於幾個關鍵因素。不過，我可以給你一個**約莫的估計**。\n",
      "\n",
      "首先，我們需要澄清一下「100W的用電量」是什麼意思。通常，如果我們談論一個總的能源預算，我們會用「瓦時」（Wh）來表示，而不是單純的「瓦」（W，這是功率）。我會假設你的意思是「**100瓦時 (Wh) 的能量**」。\n",
      "\n",
      "接下來，我們需要估計回答一個問題需要多少能量。這是一個非常變動的數字，取決於：\n",
      "\n",
      "1.  **問題的複雜度：** 一個簡短、直接的問題（例如「地球是什麼顏色？」）比一個需要深度分析、多步驟推理或生成長篇文本的問題（例如「請分析氣候變遷對全球經濟的影響」）消耗的能量要少得多。\n",
      "2.  **模型的大小和效率：** 不同的AI模型大小和架構不同，運行效率也不同。\n",
      "3.  **運行硬體和數據中心的效率：** 伺服器、冷卻系統、網路等都有自己的能耗。\n",
      "\n",
      "根據一些公開的估計（這些都是非常粗略的，因為實際數據是專有資訊），一次大型語言模型（LLM）的查詢（即「回答一個問題」）可能消耗從幾十焦耳到幾千焦耳不等（1瓦時 = 3600焦耳）。換算成瓦時，大約是 **0.01 Wh 到 1 Wh 或更多**。\n",
      "\n",
      "為了給你一個約莫的數字，我們取一個中間值，假設平均每個問題消耗 **0.5 Wh** 的能量。\n",
      "\n",
      "那麼，用100 Wh 的能量，你可以回答的問題數量大約是：\n",
      "\n",
      "100 Wh / 0.5 Wh/問題 = **200 個問題**\n",
      "\n",
      "**總結：**\n",
      "\n",
      "在「100瓦時 (Wh) 的能量」這個假設下，你大約可以回答 **200 個問題**。\n",
      "\n",
      "**請記住，這是一個非常粗略的估計。** 實際數字可能會因為上述因素而有很大的差異。一個非常簡單的問題可能讓我回答數千個，而一個極其複雜、需要長時間運算的問題可能只能回答幾十個甚至更少。\n",
      "===***\n",
      "回答內容是:  這是一個很有趣的問題，但要給出精確數字非常困難，因為它取決於幾個關鍵因素。不過，我可以給你一個**約莫的估計**。\n",
      "\n",
      "首先，我們需要澄清一下「100W的用電量」是什麼意思。通常，如果我們談論一個總的能源預算，我們會用「瓦時」（Wh）來表示，而不是單純的「瓦」（W，這是功率）。我會假設你的意思是「**100瓦時 (Wh) 的能量**」。\n",
      "\n",
      "接下來，我們需要估計回答一個問題需要多少能量。這是一個非常變動的數字，取決於：\n",
      "\n",
      "1.  **問題的複雜度：** 一個簡短、直接的問題（例如「地球是什麼顏色？」）比一個需要深度分析、多步驟推理或生成長篇文本的問題（例如「請分析氣候變遷對全球經濟的影響」）消耗的能量要少得多。\n",
      "2.  **模型的大小和效率：** 不同的AI模型大小和架構不同，運行效率也不同。\n",
      "3.  **運行硬體和數據中心的效率：** 伺服器、冷卻系統、網路等都有自己的能耗。\n",
      "\n",
      "根據一些公開的估計（這些都是非常粗略的，因為實際數據是專有資訊），一次大型語言模型（LLM）的查詢（即「回答一個問題」）可能消耗從幾十焦耳到幾千焦耳不等（1瓦時 = 3600焦耳）。換算成瓦時，大約是 **0.01 Wh 到 1 Wh 或更多**。\n",
      "\n",
      "為了給你一個約莫的數字，我們取一個中間值，假設平均每個問題消耗 **0.5 Wh** 的能量。\n",
      "\n",
      "那麼，用100 Wh 的能量，你可以回答的問題數量大約是：\n",
      "\n",
      "100 Wh / 0.5 Wh/問題 = **200 個問題**\n",
      "\n",
      "**總結：**\n",
      "\n",
      "在「100瓦時 (Wh) 的能量」這個假設下，你大約可以回答 **200 個問題**。\n",
      "\n",
      "**請記住，這是一個非常粗略的估計。** 實際數字可能會因為上述因素而有很大的差異。一個非常簡單的問題可能讓我回答數千個，而一個極其複雜、需要長時間運算的問題可能只能回答幾十個甚至更少。\n"
     ]
    }
   ],
   "source": [
    "from dotenv import load_dotenv\n",
    "from langchain_google_genai import ChatGoogleGenerativeAI\n",
    "\n",
    "# 載入.env,模擬電腦環境變數\n",
    "load_dotenv()\n",
    "\n",
    "# Create a ChatGoogleGenerativeAI model\n",
    "model = ChatGoogleGenerativeAI(model=\"gemini-2.5-flash\")\n",
    "\n",
    "# Invoke the model with a message\n",
    "# result = model.invoke(\"(繁體中文回答)81除以9的答案是?\")\n",
    "Query1=\"用繁體中文回答,天空為什麼是黃灰色?\"\n",
    "Query1=\"用繁體中文回答,為什麼要說謝謝?\"\n",
    "Query1=\"用繁體中文回答,為什麼星期六休息?\"\n",
    "#Query1=\"81除以9的答案是?\"\n",
    "Query1=\"用繁體中文回答,99除以8的答案是?\"\n",
    "Query1=\"請用中文,寫一首關於秋天的詩?\"\n",
    "Query1=\"如果給你100W的用電量,你可以回答多少問題?給我一個約莫數字\"\n",
    "result = model.invoke(Query1)\n",
    "# print(type(result))\n",
    "# print(\"所有答案: \" ,result)\n",
    "json_data=result.to_json()\n",
    "print(\"json_data,答案: \" ,json_data[\"kwargs\"][\"content\"])\n",
    "print(\"===***\")\n",
    "print(\"回答內容是: \" ,result.content)"
   ]
  }
 ],
 "metadata": {
  "kernelspec": {
   "display_name": ".venv",
   "language": "python",
   "name": "python3"
  },
  "language_info": {
   "codemirror_mode": {
    "name": "ipython",
    "version": 3
   },
   "file_extension": ".py",
   "mimetype": "text/x-python",
   "name": "python",
   "nbconvert_exporter": "python",
   "pygments_lexer": "ipython3",
   "version": "3.11.9"
  }
 },
 "nbformat": 4,
 "nbformat_minor": 5
}
