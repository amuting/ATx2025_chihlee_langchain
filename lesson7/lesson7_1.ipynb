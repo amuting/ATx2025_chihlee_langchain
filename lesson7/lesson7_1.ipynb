{
 "cells": [
  {
   "cell_type": "code",
   "execution_count": null,
   "id": "82f131a6",
   "metadata": {},
   "outputs": [],
   "source": [
    "import os\n",
    "os.path.abspath(\"_file_\")"
   ]
  },
  {
   "cell_type": "code",
   "execution_count": null,
   "id": "778ee0f5",
   "metadata": {},
   "outputs": [
    {
     "name": "stdout",
     "output_type": "stream",
     "text": [
      "Error loading c:\\Users\\USER1B\\Documents\\GitHub_clone\\ATx2025_chihlee_langchain\\lesson7\\books\\智慧型手機使用手冊.txt\n"
     ]
    }
   ],
   "source": [
    "from asyncio.streams import _ClientConnectedCallback\n",
    "import os\n",
    "from langchain_community.document_loaders import TextLoader\n",
    "from langchain.text_splitter import CharacterTextSplitter\n",
    "current_dir = os.path.dirname(os.path.abspath(\"__file__\"))\n",
    "file_path = os.path.join(current_dir, \"books\", \"智慧型手機使用手冊.txt\")\n",
    "persistent_directory = os.path.join(current_dir, \"db\", \"chroma_db_v3\")\n",
    "\n",
    "\n",
    "try:\n",
    "    if not os.path.exists(persistent_directory):\n",
    "        if not os.path.exists(file_path):\n",
    "            raise FileNotFoundError(\n",
    "                f\"檔案 {file_path} 不存在，請檢查路徑\"\n",
    "            )\n",
    "\n",
    "        # print(\"檔案正常\")\n",
    "        loader = TextLoader(file_path=file_path)\n",
    "        documents = loader.load()\n",
    "\n",
    "        # print(type(documents))\n",
    "        # print(documents)\n",
    "        # print(documents[0].metadata)\n",
    "        text_splitter = CharacterTextSplitter(chunk_size=500, chunk_overlap=200)\n",
    "        docs = text_splitter.split_documents(documents)\n",
    "        embeddings = HuggingFaceEmbeddings(\n",
    "            model_name =\"BAAI/bge-m3\"\n",
    "        )\n",
    "\n",
    "        client = chromadb.Per\n",
    "    else:\n",
    "        print(\"向量資料庫已經存在,不需要初始化\")\n",
    "        \n",
    "except Exception as error:\n",
    "    print(error)\n"
   ]
  },
  {
   "cell_type": "code",
   "execution_count": null,
   "id": "661469f5",
   "metadata": {},
   "outputs": [],
   "source": []
  },
  {
   "cell_type": "code",
   "execution_count": null,
   "id": "46a73d8e",
   "metadata": {},
   "outputs": [],
   "source": [
    "import os\n",
    "current_dir = os.path.dirname(os.path.abspath(\"__file__\"))\n",
    "file_path = os.path.join(current_dir, \"books\", \"智慧型手機使用手冊.txt\")\n",
    "persistent_directory = os.path.join(current_dir, \"db\", \"chroma_db_v3\")\n",
    "\n",
    "if not os.path.exists(persistent_directory):\n",
    "    print(\"向量資料庫不存在,需要初始化\")\n",
    "else:\n",
    "    print(\"向量資料庫已經存在,不需要初始化\")"
   ]
  },
  {
   "cell_type": "code",
   "execution_count": null,
   "id": "1aefc9af",
   "metadata": {},
   "outputs": [],
   "source": [
    "import os\n",
    "current_dir = os.path.dirname(os.path.abspath(\"__file__\"))\n",
    "file_path = os.path.join(current_dir, \"books\", \"智慧型手機使用手冊.txt\")\n",
    "persistent_directory = os.path.join(current_dir, \"db\", \"chroma_db_v3\")\n",
    "\n",
    "try:\n",
    "    if not os.path.exists(persistent_directory):\n",
    "        if not os.path.exists(file_path):\n",
    "            raise FileNotFoundError(\n",
    "                f\"檔案 {file_path} 不存在，請檢查路徑\"\n",
    "            )\n",
    "\n",
    "        print(\"檔案正常\")\n",
    "    else:\n",
    "        print(\"向量資料庫已經存在,不需要初始化\")\n",
    "        \n",
    "except Exception as error:\n",
    "    print(error)"
   ]
  }
 ],
 "metadata": {
  "kernelspec": {
   "display_name": ".venv",
   "language": "python",
   "name": "python3"
  },
  "language_info": {
   "codemirror_mode": {
    "name": "ipython",
    "version": 3
   },
   "file_extension": ".py",
   "mimetype": "text/x-python",
   "name": "python",
   "nbconvert_exporter": "python",
   "pygments_lexer": "ipython3",
   "version": "3.10.18"
  }
 },
 "nbformat": 4,
 "nbformat_minor": 5
}
