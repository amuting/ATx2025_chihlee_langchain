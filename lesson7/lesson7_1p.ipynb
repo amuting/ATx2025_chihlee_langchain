{
 "cells": [
  {
   "cell_type": "code",
   "execution_count": 23,
   "id": "363b8515",
   "metadata": {},
   "outputs": [
    {
     "name": "stdout",
     "output_type": "stream",
     "text": [
      "c:\\Users\\user1\\Documents\\github_clone\\ATx2025_chihlee_langchain\\lesson7 c:\\Users\\user1\\Documents\\github_clone\\ATx2025_chihlee_langchain\\lesson7\\db\\chroma_db_v3\n"
     ]
    }
   ],
   "source": [
    "import os\n",
    "current_dir = os.path.dirname(os.path.abspath(\"__file__\"))\n",
    "persistent_directory = os.path.join(current_dir, \"db\", \"chroma_db_v3\")\n",
    "print(current_dir,persistent_directory)"
   ]
  },
  {
   "cell_type": "code",
   "execution_count": 24,
   "id": "3290eeda",
   "metadata": {},
   "outputs": [
    {
     "data": {
      "text/plain": [
       "'c:\\\\Users\\\\user1\\\\Documents\\\\github_clone\\\\ATx2025_chihlee_langchain\\\\lesson7\\\\__file__'"
      ]
     },
     "execution_count": 24,
     "metadata": {},
     "output_type": "execute_result"
    }
   ],
   "source": [
    "os.path.abspath(\"__file__\")"
   ]
  },
  {
   "cell_type": "code",
   "execution_count": 25,
   "id": "4d000413",
   "metadata": {},
   "outputs": [
    {
     "data": {
      "text/plain": [
       "'c:\\\\Users\\\\user1\\\\Documents\\\\github_clone\\\\ATx2025_chihlee_langchain\\\\lesson7'"
      ]
     },
     "execution_count": 25,
     "metadata": {},
     "output_type": "execute_result"
    }
   ],
   "source": [
    "current_dir = os.path.dirname(os.path.abspath(\"__file__\"))\n",
    "current_dir"
   ]
  },
  {
   "cell_type": "code",
   "execution_count": null,
   "id": "73966f65",
   "metadata": {},
   "outputs": [
    {
     "name": "stdout",
     "output_type": "stream",
     "text": [
      "嘗試刪除目錄: c:\\Users\\user1\\Documents\\github_clone\\ATx2025_chihlee_langchain\\lesson7\\db\n"
     ]
    }
   ],
   "source": [
    "import os\n",
    "import shutil # 導入 shutil 模組\n",
    "\n",
    "# 這裡假設你的原始程式碼意圖是找出包含這個腳本的目錄\n",
    "# 不過 os.path.abspath(\"__file__\") 在某些環境下（例如互動式 shell）可能行為不一致。\n",
    "# 對於實際的腳本文件，應該使用 os.path.abspath(__file__)，\n",
    "# 但因為你在 Jupyter/互動環境中提供 '__file__' 字串，\n",
    "# 我將保留原來的邏輯，但為了安全起見，建議在實際腳本中用 __file__ (不帶引號)。\n",
    "\n",
    "# 獲取當前腳本的目錄（根據你提供的原始程式碼邏輯）\n",
    "# 在實際執行時，如果這是腳本文件，應使用 os.path.abspath(__file__)\n",
    "# 這裡我們保留你原始程式碼的結構\n",
    "current_dir = os.path.dirname(os.path.abspath(\"__file__\"))\n",
    "\n",
    "# 定義要刪除的目錄路徑\n",
    "persistent_directory = os.path.join(current_dir, \"db\" )\n",
    "\n",
    "print(f\"嘗試刪除目錄: {persistent_directory}\")\n",
    "\n",
    "# 檢查目錄是否存在 , 遞迴刪除目錄及其所有內容\n",
    "# if os.path.isdir(persistent_directory):\n",
    "#     try:\n",
    "#         # 使用 shutil.rmtree() 遞迴刪除目錄及其所有內容\n",
    "#         shutil.rmtree(persistent_directory)\n",
    "#         print(f\"成功刪除目錄及其內容: {persistent_directory}\")\n",
    "#     except OSError as e:\n",
    "#         print(f\"錯誤: 刪除目錄 {persistent_directory} 失敗: {e}\")\n",
    "# else:\n",
    "#     print(f\"目錄不存在: {persistent_directory}\")\n",
    "\n",
    "# 如果你只想刪除 'db' 目錄內的**內容**，但保留 'db' 目錄本身，則程式碼會更複雜：\n",
    "# if os.path.isdir(persistent_directory):\n",
    "#     for filename in os.listdir(persistent_directory):\n",
    "#         file_path = os.path.join(persistent_directory, filename)\n",
    "#         try:\n",
    "#             if os.path.isfile(file_path) or os.path.islink(file_path):\n",
    "#                 os.unlink(file_path) # 刪除檔案或符號連結\n",
    "#             elif os.path.isdir(file_path):\n",
    "#                 shutil.rmtree(file_path) # 遞迴刪除子目錄\n",
    "#         except Exception as e:\n",
    "#             print(f'刪除 {file_path} 失敗. 原因: {e}')\n",
    "#     print(f\"成功清空目錄內容: {persistent_directory}\")\n",
    "# else:\n",
    "#     print(f\"目錄不存在: {persistent_directory}\")"
   ]
  },
  {
   "cell_type": "code",
   "execution_count": 27,
   "id": "046fc8dd",
   "metadata": {},
   "outputs": [
    {
     "name": "stdout",
     "output_type": "stream",
     "text": [
      "目標目錄路徑: c:\\Users\\user1\\Documents\\github_clone\\ATx2025_chihlee_langchain\\lesson7\\db\n",
      "目錄已確認/創建: c:\\Users\\user1\\Documents\\github_clone\\ATx2025_chihlee_langchain\\lesson7\\db\n"
     ]
    }
   ],
   "source": [
    "import os\n",
    "\n",
    "# 獲取當前腳本的目錄路徑\n",
    "# 注意：在實際的 Python 腳本中，建議使用 os.path.abspath(__file__)\n",
    "# 但因為您提供的原始碼使用了 \"__file__\" 字串，這裡保留原始邏輯。\n",
    "current_dir = os.path.dirname(os.path.abspath(\"__file__\"))\n",
    "\n",
    "# 定義目標目錄路徑\n",
    "persistent_directory = os.path.join(current_dir, \"db\" )\n",
    "\n",
    "# 打印路徑，確認是我們想要操作的目錄\n",
    "print(f\"目標目錄路徑: {persistent_directory}\")\n",
    "\n",
    "# 檢查目錄是否存在，如果不存在則創建它。\n",
    "# exist_ok=True 確保如果目錄已經存在，不會拋出 FileExistsError 錯誤。\n",
    "# os.makedirs 會創建路徑中的所有中間目錄。\n",
    "try:\n",
    "    os.makedirs(persistent_directory, exist_ok=True)\n",
    "    print(f\"目錄已確認/創建: {persistent_directory}\")\n",
    "except OSError as e:\n",
    "    # 捕獲其他可能的錯誤，例如權限問題\n",
    "    print(f\"創建目錄失敗: {e}\")"
   ]
  },
  {
   "cell_type": "code",
   "execution_count": 28,
   "id": "0cfaf4fa",
   "metadata": {},
   "outputs": [
    {
     "name": "stdout",
     "output_type": "stream",
     "text": [
      "向量資料庫已存在\n",
      "向量資料庫已經存在,不需要初始化\n"
     ]
    }
   ],
   "source": [
    "import os\n",
    "from langchain_community.document_loaders import TextLoader\n",
    "from langchain.text_splitter import CharacterTextSplitter\n",
    "from langchain_huggingface import HuggingFaceEmbeddings\n",
    "from langchain_chroma import Chroma\n",
    "import chromadb\n",
    "\n",
    "current_dir = os.path.dirname(os.path.abspath(\"__file__\"))\n",
    "file_path = os.path.join(current_dir, \"books\", \"智慧型手機使用手冊.txt\")\n",
    "persistent_directory = os.path.join(current_dir, \"db\", \"chroma_db_v3\")\n",
    "try:\n",
    "    if os.path.exists(persistent_directory):\n",
    "        loader = TextLoader(file_path=file_path,encoding='utf-8')\n",
    "        documents = loader.load()\n",
    "        text_splitter = CharacterTextSplitter(chunk_size=500, chunk_overlap=200)\n",
    "        docs = text_splitter.split_documents(documents)\n",
    "        print(\"向量資料庫已存在\")\n",
    "\n",
    "    if not os.path.exists(persistent_directory):\n",
    "        if not os.path.exists(file_path):\n",
    "            raise FileNotFoundError(\n",
    "                f\"檔案{file_path}不存在,請檢查路徑\"\n",
    "            )\n",
    "\n",
    "        loader = TextLoader(file_path=file_path,encoding='utf-8')\n",
    "        documents = loader.load()\n",
    "        text_splitter = CharacterTextSplitter(chunk_size=500, chunk_overlap=200)\n",
    "        docs = text_splitter.split_documents(documents)\n",
    "        #print(len(docs))\n",
    "        #print(docs[0].page_content)\n",
    "        embeddings = HuggingFaceEmbeddings(\n",
    "            model_name=\"BAAI/bge-m3\"\n",
    "        )\n",
    "\n",
    "        client = chromadb.PersistentClient(path=persistent_directory)\n",
    "\n",
    "        db = Chroma.from_documents(\n",
    "            docs,\n",
    "            embedding=embeddings,\n",
    "            client = client,\n",
    "            collection_name=\"smartphone_manual\"\n",
    "        )\n",
    "\n",
    "    else:\n",
    "        print(\"向量資料庫已經存在,不需要初始化\")\n",
    "        \n",
    "except Exception as error:\n",
    "    print(error)\n"
   ]
  },
  {
   "cell_type": "code",
   "execution_count": 29,
   "id": "21912346",
   "metadata": {},
   "outputs": [
    {
     "name": "stdout",
     "output_type": "stream",
     "text": [
      "8.4 聯絡客服\n",
      "客服管道:\n",
      "- 客服專線:0800-123-456(週一至週日 9:00-21:00)\n",
      "- 線上客服:官網即時聊天\n",
      "- 電子郵件:support@example.com\n",
      "- 服務中心:請至官網查詢鄰近服務中心地址\n",
      "\n",
      "送修前準備:\n",
      "1. 備份所有資料\n",
      "2. 移除 SIM 卡與記憶卡\n",
      "3. 準備購買證明(發票或收據)\n",
      "4. 記錄故障現象與發生時間\n",
      "\n",
      "規格總覽\n",
      "\n",
      "硬體規格:\n",
      "- 處理器:Snapdragon 8 Gen 2 / Apple A17 Pro\n",
      "- 記憶體:8GB/12GB RAM\n",
      "- 儲存空間:128GB/256GB/512GB\n",
      "- 螢幕:6.7\" AMOLED,120Hz\n",
      "- 電池:5000mAh\n",
      "- 重量:195g\n",
      "- 尺寸:163.1 x 75.5 x 8.2 mm\n",
      "\n",
      "相機:\n",
      "- 後置:50MP + 12MP + 8MP\n",
      "- 前置:32MP\n",
      "\n",
      "連線:\n",
      "- 5G、4G LTE\n",
      "- Wi-Fi 6、藍牙 5.3\n",
      "- NFC、GPS\n",
      "- USB-C\n",
      "\n",
      "作業系統:\n",
      "- Android 14 或 iOS 17\n",
      "- 承諾 4 年系統更新\n",
      "- 5 年安全性更新\n",
      "============================================================\n",
      "8.4 聯絡客服\n",
      "客服管道:\n",
      "- 客服專線:0800-123-456(週一至週日 9:00-21:00)\n",
      "- 線上客服:官網即時聊天\n",
      "- 電子郵件:support@example.com\n",
      "- 服務中心:請至官網查詢鄰近服務中心地址\n",
      "\n",
      "送修前準備:\n",
      "1. 備份所有資料\n",
      "2. 移除 SIM 卡與記憶卡\n",
      "3. 準備購買證明(發票或收據)\n",
      "4. 記錄故障現象與發生時間\n",
      "\n",
      "規格總覽\n",
      "\n",
      "硬體規格:\n",
      "- 處理器:Snapdragon 8 Gen 2 / Apple A17 Pro\n",
      "- 記憶體:8GB/12GB RAM\n",
      "- 儲存空間:128GB/256GB/512GB\n",
      "- 螢幕:6.7\" AMOLED,120Hz\n",
      "- 電池:5000mAh\n",
      "- 重量:195g\n",
      "- 尺寸:163.1 x 75.5 x 8.2 mm\n",
      "\n",
      "相機:\n",
      "- 後置:50MP + 12MP + 8MP\n",
      "- 前置:32MP\n",
      "\n",
      "連線:\n",
      "- 5G、4G LTE\n",
      "- Wi-Fi 6、藍牙 5.3\n",
      "- NFC、GPS\n",
      "- USB-C\n",
      "\n",
      "作業系統:\n",
      "- Android 14 或 iOS 17\n",
      "- 承諾 4 年系統更新\n",
      "- 5 年安全性更新\n",
      "============================================================\n",
      "8.4 聯絡客服\n",
      "客服管道:\n",
      "- 客服專線:0800-123-456(週一至週日 9:00-21:00)\n",
      "- 線上客服:官網即時聊天\n",
      "- 電子郵件:support@example.com\n",
      "- 服務中心:請至官網查詢鄰近服務中心地址\n",
      "\n",
      "送修前準備:\n",
      "1. 備份所有資料\n",
      "2. 移除 SIM 卡與記憶卡\n",
      "3. 準備購買證明(發票或收據)\n",
      "4. 記錄故障現象與發生時間\n",
      "\n",
      "規格總覽\n",
      "\n",
      "硬體規格:\n",
      "- 處理器:Snapdragon 8 Gen 2 / Apple A17 Pro\n",
      "- 記憶體:8GB/12GB RAM\n",
      "- 儲存空間:128GB/256GB/512GB\n",
      "- 螢幕:6.7\" AMOLED,120Hz\n",
      "- 電池:5000mAh\n",
      "- 重量:195g\n",
      "- 尺寸:163.1 x 75.5 x 8.2 mm\n",
      "\n",
      "相機:\n",
      "- 後置:50MP + 12MP + 8MP\n",
      "- 前置:32MP\n",
      "\n",
      "連線:\n",
      "- 5G、4G LTE\n",
      "- Wi-Fi 6、藍牙 5.3\n",
      "- NFC、GPS\n",
      "- USB-C\n",
      "\n",
      "作業系統:\n",
      "- Android 14 或 iOS 17\n",
      "- 承諾 4 年系統更新\n",
      "- 5 年安全性更新\n",
      "============================================================\n"
     ]
    }
   ],
   "source": [
    "query = \"手機硬體規格如何?\"\n",
    "\n",
    "embeddings = HuggingFaceEmbeddings(\n",
    "            model_name=\"BAAI/bge-m3\"\n",
    "        )\n",
    "\n",
    "client = chromadb.PersistentClient(path=persistent_directory)\n",
    "\n",
    "db = Chroma.from_documents(\n",
    "            docs,\n",
    "            embedding=embeddings,\n",
    "            client = client,\n",
    "            collection_name=\"smartphone_manual\"\n",
    "        )\n",
    "\n",
    "retriever = db.as_retriever(\n",
    "    search_type=\"similarity\",\n",
    "    search_kwargs={\"k\": 3}\n",
    ")\n",
    "\n",
    "relevant_docs = retriever.invoke(query)\n",
    "for doc in relevant_docs:\n",
    "    print(doc.page_content)\n",
    "    print(\"=\" * 60)"
   ]
  }
 ],
 "metadata": {
  "kernelspec": {
   "display_name": ".venv",
   "language": "python",
   "name": "python3"
  },
  "language_info": {
   "codemirror_mode": {
    "name": "ipython",
    "version": 3
   },
   "file_extension": ".py",
   "mimetype": "text/x-python",
   "name": "python",
   "nbconvert_exporter": "python",
   "pygments_lexer": "ipython3",
   "version": "3.10.19"
  }
 },
 "nbformat": 4,
 "nbformat_minor": 5
}
