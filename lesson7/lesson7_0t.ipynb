{
 "cells": [
  {
   "cell_type": "code",
   "execution_count": null,
   "id": "efa6b767",
   "metadata": {},
   "outputs": [],
   "source": [
    "'''\n",
    "chromadb\n",
    "uv install\n",
    " onnxruntime>=1.16.0,<1.23.0 , chromadb >=1.2.1\n",
    " \n",
    " pip install onnxruntime==1.22.0\\\n",
    " \n",
    " uv add \"onnxruntime>=1.16.0,<1.23.0\"\n",
    " uv add \"chromadb >=1.2.1\"\n",
    " \n",
    " uv add chromadb\n",
    " uv add onnxruntime\n",
    " \n",
    " pip install pysqlite3-binary\n",
    "\n",
    " --Hugging Face\n",
    " -- https://huggingface.co/BAAI/bge-m3\n",
    "'''"
   ]
  }
 ],
 "metadata": {
  "language_info": {
   "name": "python"
  }
 },
 "nbformat": 4,
 "nbformat_minor": 5
}
