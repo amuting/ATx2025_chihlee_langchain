{
 "cells": [
  {
   "cell_type": "code",
   "execution_count": 4,
   "id": "7d822fda",
   "metadata": {},
   "outputs": [],
   "source": [
    "from langchain.prompts import ChatPromptTemplate\n",
    "from langchain_ollama import OllamaLLM\n",
    "from langchain.schema.output_parser import StrOutputParser\n",
    "\n"
   ]
  },
  {
   "cell_type": "code",
   "execution_count": 5,
   "id": "633352ee",
   "metadata": {},
   "outputs": [],
   "source": [
    "model = OllamaLLM(\n",
    "    model=\"llama3.2:latest\",\n",
    "    temperature=0.7,\n",
    "    top_p=0.9\n",
    "    )\n",
    "\n"
   ]
  },
  {
   "cell_type": "code",
   "execution_count": 7,
   "id": "b12adddb",
   "metadata": {},
   "outputs": [],
   "source": [
    "prompt = ChatPromptTemplate.from_template(\n",
    "    \"\"\"你是一位專業的{role}，請用{style}的風格來介紹{topic}。\n",
    "\n",
    "要求：\n",
    "1. 內容要準確且易懂\n",
    "2. 長度控制在200字以內\n",
    "3. 使用繁體中文回答\n",
    "\n",
    "請開始介紹：\"\"\"\n",
    ")"
   ]
  },
  {
   "cell_type": "code",
   "execution_count": 8,
   "id": "fae51540",
   "metadata": {},
   "outputs": [
    {
     "name": "stdout",
     "output_type": "stream",
     "text": [
      "深度學習（Deep Learning）是一種人工智能領域，使用神經網路模型來處理和分析大型數據。它的根源於人類的大腦結構和功能，模仿大腦中的神經元和連接方式。\n",
      "\n",
      "深度學習在各個 분야都有應用，如：\n",
      "\n",
      "*  computer vision：例如物體識別、圖像分割等\n",
      "* natural language processing：例如語言翻譯、文本分析等\n",
      "* speech recognition：例如音頻辨認、聲音分析等\n",
      "\n",
      "深度學習的特點包括：\n",
      "\n",
      "* 能夠自動學習和適應新資料\n",
      "* สามารถ處理大型數據，提高精確度\n",
      "* 可以自我調整和改進模型的優化\n",
      "\n",
      "然而，深度學習也面臨挑戰，如：\n",
      "\n",
      "* 計算資源過大\n",
      "* Training 時程長時間\n",
      "* 較複雜的計算機器\n",
      "\n",
      "總之，深度學習是一種強大的人工智能工具，能夠在各個領域取得顯著成就。\n"
     ]
    }
   ],
   "source": [
    "\n",
    "chain = (prompt | model | StrOutputParser())\n",
    "result = chain.invoke(\n",
    "    {\n",
    "        \"role\":\"AI 專家\",\n",
    "        \"style\":\"簡潔明瞭\",\n",
    "        \"topic\":\"深度學習\"\n",
    "    }\n",
    ")\n",
    "print(result)"
   ]
  }
 ],
 "metadata": {
  "kernelspec": {
   "display_name": ".venv",
   "language": "python",
   "name": "python3"
  },
  "language_info": {
   "codemirror_mode": {
    "name": "ipython",
    "version": 3
   },
   "file_extension": ".py",
   "mimetype": "text/x-python",
   "name": "python",
   "nbconvert_exporter": "python",
   "pygments_lexer": "ipython3",
   "version": "3.10.18"
  }
 },
 "nbformat": 4,
 "nbformat_minor": 5
}
