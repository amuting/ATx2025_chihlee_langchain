{
 "cells": [
  {
   "cell_type": "code",
   "execution_count": 1,
   "id": "7d822fda",
   "metadata": {},
   "outputs": [],
   "source": [
    "from langchain.prompts import ChatPromptTemplate\n",
    "from langchain_ollama import OllamaLLM\n",
    "from langchain.schema.output_parser import StrOutputParser\n",
    "\n"
   ]
  },
  {
   "cell_type": "code",
   "execution_count": 2,
   "id": "633352ee",
   "metadata": {},
   "outputs": [],
   "source": [
    "model = OllamaLLM(\n",
    "    model=\"llama3.2:latest\",\n",
    "    temperature=0.7,\n",
    "    top_p=0.9\n",
    "    )\n",
    "\n"
   ]
  },
  {
   "cell_type": "code",
   "execution_count": 3,
   "id": "b12adddb",
   "metadata": {},
   "outputs": [],
   "source": [
    "prompt = ChatPromptTemplate.from_template(\n",
    "    \"\"\"你是一位專業的{role}，請用{style}的風格來介紹{topic}。\n",
    "\n",
    "要求：\n",
    "1. 內容要準確且易懂\n",
    "2. 長度控制在200字以內\n",
    "3. 使用繁體中文回答\n",
    "\n",
    "請開始介紹：\"\"\"\n",
    ")"
   ]
  },
  {
   "cell_type": "code",
   "execution_count": 4,
   "id": "fae51540",
   "metadata": {},
   "outputs": [
    {
     "name": "stdout",
     "output_type": "stream",
     "text": [
      "深度學習（Deep Learning）是一種人工神經網路（Artificial Neural Network, ANN）的 subset，特別是在神經網路中使用多層次的計算單位。它們可以模仿大腦的行為，通過自組織和參與來學習複雜的模式。\n",
      "\n",
      "深度學習的核心思想是使用大量數據以非線性方式學習關係之間的關聯性。這些模型由多層次的神經元組成，每一層都對輸入特徵進行變換，產生新的特徵。\n",
      "\n",
      "深度學習在許多領域得到廣泛應用，如圖像識別、自然語言處理和機器視覺。它們能夠有效地處理大型數據集，並出現了人工神經網路的巨大進步。\n"
     ]
    }
   ],
   "source": [
    "\n",
    "chain = (prompt | model | StrOutputParser())\n",
    "result = chain.invoke(\n",
    "    {\n",
    "        \"role\":\"AI 專家\",\n",
    "        \"style\":\"簡潔明瞭\",\n",
    "        \"topic\":\"深度學習\"\n",
    "    }\n",
    ")\n",
    "print(result)"
   ]
  }
 ],
 "metadata": {
  "kernelspec": {
   "display_name": ".venv",
   "language": "python",
   "name": "python3"
  },
  "language_info": {
   "codemirror_mode": {
    "name": "ipython",
    "version": 3
   },
   "file_extension": ".py",
   "mimetype": "text/x-python",
   "name": "python",
   "nbconvert_exporter": "python",
   "pygments_lexer": "ipython3",
   "version": "3.10.19"
  }
 },
 "nbformat": 4,
 "nbformat_minor": 5
}
