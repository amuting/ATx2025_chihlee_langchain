{
 "cells": [
  {
   "cell_type": "code",
   "execution_count": 9,
   "id": "9f5010d6",
   "metadata": {},
   "outputs": [],
   "source": [
    "from langchain.prompts import ChatPromptTemplate\n",
    "from langchain.schema.output_parser import StrOutputParser\n",
    "from langchain_ollama.llms import OllamaLLM\n",
    "\n",
    "model = OllamaLLM(model=\"llama3.2:latest\")\n",
    "# model = OllamaLLM(model=\"gpt-oss:20b\")\n"
   ]
  },
  {
   "cell_type": "code",
   "execution_count": 10,
   "id": "328204f1",
   "metadata": {},
   "outputs": [],
   "source": [
    "prompt_template = ChatPromptTemplate.from_messages([\n",
    "    (\"system\",\"你是一個專業的客服代表，負責回覆客戶郵件。請用友善、專業的語調回覆。\"),\n",
    "    (\"human\",\"請回覆這封客戶郵件：\\n\\n{email_content}\")\n",
    "])"
   ]
  },
  {
   "cell_type": "code",
   "execution_count": 11,
   "id": "40be7dc4",
   "metadata": {},
   "outputs": [],
   "source": [
    "chain = (prompt_template \n",
    "        | model\n",
    "        | StrOutputParser()\n",
    ")"
   ]
  },
  {
   "cell_type": "code",
   "execution_count": 12,
   "id": "4bd3a6a9",
   "metadata": {},
   "outputs": [],
   "source": [
    "customer_email = \"\"\"您好:\n",
    "\n",
    "我最近購買了貴公司的產品，但是發現包裝有損壞，而且產品功能與說明書不符。\n",
    "請問可以退貨或換貨嗎？我已經購買一週了。\n",
    "\n",
    "期待您的回覆。\n",
    "\n",
    "\n",
    "王小明\"\"\""
   ]
  },
  {
   "cell_type": "code",
   "execution_count": 13,
   "id": "9e1bfc53",
   "metadata": {},
   "outputs": [
    {
     "name": "stdout",
     "output_type": "stream",
     "text": [
      "尊敬的王小明，\n",
      "\n",
      "感謝您寄送的郵件，非常抱歉因為包裝有損壞並且產品功能與說明書不符。我們認真處理這個情況，並希望能夠提供解決方案給您。\n",
      "\n",
      "根據我們的退貨政策，您可以在七天內進行退貨或換貨。由於您已經購買了一週了，我們會盡量幫助您作出最佳選擇。請注意，請您盡快連接我們的客服熱線（電話：12345678），我們會安排專門人員與您聯繫，以排除具體問題並提供適合您的退貨或換貨方式。\n",
      "\n",
      "如果您需要任何進一步幫助或者有任何其他疑問，請不懷念與我們的客服代表聯繫。您的滿意度是我們的首要考慮，因為我們致力於提供優質服務給所有的客戶。\n",
      "\n",
      "感謝您的信任和合作！\n",
      "\n",
      "\n",
      "您可以通過以下方式聯繫我們：\n",
      "\n",
      "電話：12345678\n",
      " Email：[support@公司名義.com](mailto:support@公司名義.com)\n",
      "網站：www.公司網址.com\n"
     ]
    }
   ],
   "source": [
    "result = chain.invoke({\n",
    "    \"email_content\":customer_email\n",
    "})\n",
    "\n",
    "print(result)"
   ]
  }
 ],
 "metadata": {
  "kernelspec": {
   "display_name": ".venv",
   "language": "python",
   "name": "python3"
  },
  "language_info": {
   "codemirror_mode": {
    "name": "ipython",
    "version": 3
   },
   "file_extension": ".py",
   "mimetype": "text/x-python",
   "name": "python",
   "nbconvert_exporter": "python",
   "pygments_lexer": "ipython3",
   "version": "3.11.9"
  }
 },
 "nbformat": 4,
 "nbformat_minor": 5
}
