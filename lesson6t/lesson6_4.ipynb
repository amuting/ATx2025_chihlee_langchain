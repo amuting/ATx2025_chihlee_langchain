{
 "cells": [
  {
   "cell_type": "code",
   "execution_count": 7,
   "id": "9f5010d6",
   "metadata": {},
   "outputs": [],
   "source": [
    "from langchain.prompts import ChatPromptTemplate\n",
    "from langchain.schema.output_parser import StrOutputParser\n",
    "from langchain_ollama.llms import OllamaLLM\n",
    "\n",
    "model = OllamaLLM(model=\"llama3.2:latest\")\n",
    "# model = OllamaLLM(model=\"gpt-oss:20b\")\n"
   ]
  },
  {
   "cell_type": "code",
   "execution_count": 8,
   "id": "328204f1",
   "metadata": {},
   "outputs": [],
   "source": [
    "prompt_template = ChatPromptTemplate.from_messages([\n",
    "    (\"system\",\"你是一個專業的客服代表，負責回覆客戶郵件。請用友善、專業的語調回覆。\"),\n",
    "    (\"human\",\"請回覆這封客戶郵件：\\n\\n{email_content}\")\n",
    "])"
   ]
  },
  {
   "cell_type": "code",
   "execution_count": 9,
   "id": "40be7dc4",
   "metadata": {},
   "outputs": [],
   "source": [
    "chain = (prompt_template \n",
    "        | model\n",
    "        | StrOutputParser()\n",
    ")"
   ]
  },
  {
   "cell_type": "code",
   "execution_count": 10,
   "id": "4bd3a6a9",
   "metadata": {},
   "outputs": [],
   "source": [
    "customer_email = \"\"\"您好:\n",
    "\n",
    "我最近購買了貴公司的產品，但是發現包裝有損壞，而且產品功能與說明書不符。\n",
    "請問可以退貨或換貨嗎？我已經購買一週了。\n",
    "\n",
    "期待您的回覆。\n",
    "\n",
    "\n",
    "王小明\"\"\""
   ]
  },
  {
   "cell_type": "code",
   "execution_count": 11,
   "id": "9e1bfc53",
   "metadata": {},
   "outputs": [
    {
     "name": "stdout",
     "output_type": "stream",
     "text": [
      "尊敬的王小明 先生,\n",
      "\n",
      "感謝您寄來的郵件，我們很 tiếc知道您遇到的問題。包裝損壞和產品功能不符是我們公司無法接受的-standard，為此，我們完全支持您的退貨要求。\n",
      "\n",
      "請先將破壞的包裝和產品送回給我們，以便我們進行檢查和處理。您可以在我们的網站上找到退貨地址和表格，或者您也可以連繫我們的客服部門（[聯絡資訊]），我們會為您提供必要的協助。\n",
      "\n",
      "若您需要換貨，我們可以提供新 제품給您。但是，您需要先送回破壞的包裝和產品。請確認新商品是否符合您的需求後再進行交貨。\n",
      "\n",
      "此次退貨或換貨不會影響到您購買的 garanty。 我們希望能夠盡快解決這個問題，為您提供更好的使用體驗。\n",
      "\n",
      "如果您需要更多幫助，我們也可以聯繫並安排一個電話 call 回應。\n",
      "\n",
      "感謝您的信任和支持！\n",
      "\n",
      " freundly,\n",
      "[Your Name]\n",
      "客服代表\n"
     ]
    }
   ],
   "source": [
    "result = chain.invoke({\n",
    "    \"email_content\":customer_email\n",
    "})\n",
    "\n",
    "print(result)"
   ]
  }
 ],
 "metadata": {
  "kernelspec": {
   "display_name": ".venv",
   "language": "python",
   "name": "python3"
  },
  "language_info": {
   "codemirror_mode": {
    "name": "ipython",
    "version": 3
   },
   "file_extension": ".py",
   "mimetype": "text/x-python",
   "name": "python",
   "nbconvert_exporter": "python",
   "pygments_lexer": "ipython3",
   "version": "3.10.19"
  }
 },
 "nbformat": 4,
 "nbformat_minor": 5
}
