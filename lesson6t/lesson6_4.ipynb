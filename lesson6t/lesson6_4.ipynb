{
 "cells": [
  {
   "cell_type": "code",
   "execution_count": 1,
   "id": "9f5010d6",
   "metadata": {},
   "outputs": [],
   "source": [
    "from langchain.prompts import ChatPromptTemplate\n",
    "from langchain.schema.output_parser import StrOutputParser\n",
    "from langchain_ollama.llms import OllamaLLM\n",
    "\n",
    "# model = OllamaLLM(model=\"llama3.2:latest\")\n",
    "model = OllamaLLM(model=\"gpt-oss:20b\")\n"
   ]
  },
  {
   "cell_type": "code",
   "execution_count": 2,
   "id": "328204f1",
   "metadata": {},
   "outputs": [],
   "source": [
    "prompt_template = ChatPromptTemplate.from_messages([\n",
    "    (\"system\",\"你是一個專業的客服代表，負責回覆客戶郵件。請用友善、專業的語調回覆。\"),\n",
    "    (\"human\",\"請回覆這封客戶郵件：\\n\\n{email_content}\")\n",
    "])"
   ]
  },
  {
   "cell_type": "code",
   "execution_count": 3,
   "id": "40be7dc4",
   "metadata": {},
   "outputs": [],
   "source": [
    "chain = (prompt_template \n",
    "        | model\n",
    "        | StrOutputParser()\n",
    ")"
   ]
  },
  {
   "cell_type": "code",
   "execution_count": 4,
   "id": "4bd3a6a9",
   "metadata": {},
   "outputs": [],
   "source": [
    "customer_email = \"\"\"您好:\n",
    "\n",
    "我最近購買了貴公司的產品，但是發現包裝有損壞，而且產品功能與說明書不符。\n",
    "請問可以退貨或換貨嗎？我已經購買一週了。\n",
    "\n",
    "期待您的回覆。\n",
    "\n",
    "\n",
    "王小明\"\"\""
   ]
  },
  {
   "cell_type": "code",
   "execution_count": 5,
   "id": "9e1bfc53",
   "metadata": {},
   "outputs": [
    {
     "name": "stdout",
     "output_type": "stream",
     "text": [
      "尊敬的王小明先生／女士，  \n",
      "\n",
      "您好！  \n",
      "\n",
      "感謝您選購我們的產品，也很抱歉聽到您收到的商品存在包裝損壞與功能不符的情況。  \n",
      "我們十分重視客戶的滿意度，並承諾在 30 天內為您提供退貨或換貨服務。\n",
      "\n",
      "以下為您退換貨的流程，請您按部就班完成：\n",
      "\n",
      "| 步驟 | 內容 | 備註 |\n",
      "|------|------|------|\n",
      "| 1. | 請拍攝並附上包裝損壞及產品功能不符的照片（包括包裝裂縫、漏印、功能異常的截圖等）。 | 方便我們快速判斷問題。 |\n",
      "| 2. | 於信件中說明您希望退貨（退款）或換貨（相同/其他型號）。 | 如您希望換貨，請說明想要的產品型號或數量。 |\n",
      "| 3. | 我們將於收到您寄來的照片與說明後 1–2 個工作天內回覆確認並提供退貨／換貨單號。 | 此時請保留原始包裝，以備退回時使用。 |\n",
      "| 4. | 將商品（含原始包裝、所有附件及說明書）寄回至以下地址：<br>**退貨地址**<br> 123 品牌大道<br>台北市 100<br>台灣 | 如果是因為產品本身缺陷，我們將提供免費回寄標籤；若是包裝損壞，因非本公司責任，退貨郵費請您自行負擔。 |\n",
      "| 5. | 我們收到商品後 5–7 個工作天內完成檢驗，若確認為退換原因，我們將立即處理退款或寄送新貨。 | 若退款，款項將以原支付方式退還；若換貨，將於 1–2 個工作天內寄出。 |\n",
      "\n",
      "**聯絡方式**  \n",
      "- 電話：+886‑2‑1234‑5678（周一至週五 09:00‑18:00）  \n",
      "- Email：support@ourbrand.com  \n",
      "- 線上客服：請於我們官方網站（www.ourbrand.com）右下角的「即時聊天」功能留言。\n",
      "\n",
      "若您在任何步驟上有疑問，請隨時與我們聯繫，我們將竭誠為您服務。  \n",
      "再次為此次不便向您致歉，並感謝您的理解與支持。\n",
      "\n",
      "祝 您 生活愉快！\n",
      "\n",
      "---  \n",
      "**客服團隊**  \n",
      "OurBrand 客服部門\n"
     ]
    }
   ],
   "source": [
    "result = chain.invoke({\n",
    "    \"email_content\":customer_email\n",
    "})\n",
    "\n",
    "print(result)"
   ]
  }
 ],
 "metadata": {
  "kernelspec": {
   "display_name": ".venv",
   "language": "python",
   "name": "python3"
  },
  "language_info": {
   "codemirror_mode": {
    "name": "ipython",
    "version": 3
   },
   "file_extension": ".py",
   "mimetype": "text/x-python",
   "name": "python",
   "nbconvert_exporter": "python",
   "pygments_lexer": "ipython3",
   "version": "3.10.18"
  }
 },
 "nbformat": 4,
 "nbformat_minor": 5
}
