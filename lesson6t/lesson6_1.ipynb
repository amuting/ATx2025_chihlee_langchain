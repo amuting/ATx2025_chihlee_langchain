{
 "cells": [
  {
   "cell_type": "code",
   "execution_count": 2,
   "id": "00e72fd1",
   "metadata": {},
   "outputs": [
    {
     "name": "stdout",
     "output_type": "stream",
     "text": [
      "Python 是一種高效、易於使用的程式語言，特別適合สำหร開發 web applications、數據分析、機器學習等領域。以下是一些 Python 的基本特點和用途：\n",
      "\n",
      "**優點**\n",
      "\n",
      "* 便捷：Python 的語法簡潔，容易被新手學習。\n",
      "* 強大庫系：Python 有豐富的第三方庫（library），可為開發提供支持。\n",
      "* 兩元行程：Python 是自由開源的，而且無需付費使用。\n",
      "\n",
      "**用途**\n",
      "\n",
      "* web desenvolvimento：如 Django、Flask 等框架可以幫助建造 web applications。\n",
      "*數據分析：Scikit-learn 等庫可以進行資料的處理和模型的建置。\n",
      "*程式學習：Python 是一個很好的選擇，尤其是為初學者。\n",
      "\n",
      "**程式語法**\n",
      "\n",
      "Python 的語法相對簡單，容易被人們所接收和使用。它的基本結構包括：\n",
      "\n",
      "* 類型化變數（variable）：可以用來儲存和記憶資料。\n",
      "* 代數操作：可用於計算和代數運算。\n",
      "*控制流程：如迴圈、分支等，幫助執行程式的邏輯。\n",
      "\n",
      "**常見的 Python 類型**\n",
      "\n",
      "1. **基本類型**：\n",
      " * 數字\n",
      " * 字串\n",
      " * 布爾值\n",
      "2. **物質類型**：\n",
      " * 列表（列表）\n",
      " *_tuples（元組）\n",
      " * 辯義（辯義）\n",
      "3. **函數類型**：可用於定義功能和程式的邏輯。\n",
      "\n",
      "**python 中常見的 command**\n",
      "\n",
      "1. `print()`:印出內容。\n",
      "2. `input()`:接受輸入。\n",
      "3. `for`、`while`、`if` :控制程式流動。\n",
      "\n",
      "python 是一個非常廣泛的程式語言，可以用於各種應用，包括開發 web applications、數據分析、程式學習等。\n"
     ]
    }
   ],
   "source": [
    "from langchain.prompts import ChatPromptTemplate\n",
    "from langchain_ollama.llms import OllamaLLM\n",
    "from langchain.schema.output_parser import StrOutputParser\n",
    "\n",
    "prompt = ChatPromptTemplate.from_template(\"請介紹{topic}\")\n",
    "model = OllamaLLM(model=\"llama3.2:latest\")\n",
    "output_parser = StrOutputParser()\n",
    "\n",
    "# 使用LCEL語法建立鏈\n",
    "\n",
    "chain = (prompt \n",
    "           | model \n",
    "           | output_parser)\n",
    "\n",
    "print(chain.invoke({\"topic\":\"python\"}))"
   ]
  },
  {
   "cell_type": "code",
   "execution_count": 3,
   "id": "3daecc09",
   "metadata": {},
   "outputs": [],
   "source": [
    "def upgrade_level1(name:str) -> str:\n",
    "    result = f\"\"\"{name}\n",
    "等級1\"\"\"\n",
    "    return result\n",
    "\n",
    "def upgrade_level2(input_str) -> str:\n",
    "    result = f\"\"\"{input_str}\n",
    "等級2\"\"\"\n",
    "    return result\n",
    "\n",
    "def upgrade_level3(input_str) -> str:\n",
    "    result = f\"\"\"{input_str}\n",
    "等級3\"\"\"\n",
    "    return result\n"
   ]
  },
  {
   "cell_type": "code",
   "execution_count": 4,
   "id": "688faac4",
   "metadata": {},
   "outputs": [
    {
     "name": "stdout",
     "output_type": "stream",
     "text": [
      "徐國堂\n",
      "等級1\n",
      "等級2\n",
      "等級3\n",
      "hello\n",
      "2025-10-19 11:52:39.032774\n"
     ]
    }
   ],
   "source": [
    "total = upgrade_level3(upgrade_level2(upgrade_level1(name=\"徐國堂\")))\n",
    "print(total)\n",
    "import datetime\n",
    "print('hello')\n",
    "print(datetime.datetime.now()) # import datetime\n"
   ]
  }
 ],
 "metadata": {
  "kernelspec": {
   "display_name": ".venv",
   "language": "python",
   "name": "python3"
  },
  "language_info": {
   "codemirror_mode": {
    "name": "ipython",
    "version": 3
   },
   "file_extension": ".py",
   "mimetype": "text/x-python",
   "name": "python",
   "nbconvert_exporter": "python",
   "pygments_lexer": "ipython3",
   "version": "3.10.19"
  }
 },
 "nbformat": 4,
 "nbformat_minor": 5
}
