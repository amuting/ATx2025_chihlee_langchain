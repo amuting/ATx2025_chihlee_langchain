{
 "cells": [
  {
   "cell_type": "code",
   "execution_count": 2,
   "id": "00e72fd1",
   "metadata": {},
   "outputs": [
    {
     "name": "stdout",
     "output_type": "stream",
     "text": [
      "Python 是一種高效、易於用戶使用的Programming語言，已經成為全球最受歡迎的程式語言之一。下面是一個簡要的介紹：\n",
      "\n",
      "**什麼是 Python ?**\n",
      "\n",
      "Python 是一個高級程式語言，設計用於開發各種程式，例如網頁程式、應用程式、科學計算機等。\n",
      "\n",
      "**優點**\n",
      "\n",
      "1. **易使用**: Python 的Syntax 很簡單和清晰，方便使用者快速上手。\n",
      "2. **高效**: Python 的解釋器（Interpreter）可以快速處理程式，尤其是在網路應用中。\n",
      "3. **多功能**: Python 可以用於許多領域，包括web發展、機器學習、數據科學、game開發等。\n",
      "\n",
      "**使用 Python 的優點**\n",
      "\n",
      "1. **快捷**: Python 的Syntax ทำให程式書寫速度快，減少 coding 時間。\n",
      "2. **可擴展性**:Python可以用於許多不同的應用，例如web development、data science、machine learning、game development 等。\n",
      "3. **大型社区**:Python的使用者人數豐富，可以找到適合自己需求的Resources。\n",
      "\n",
      "**常見的 Python application**\n",
      "\n",
      "1. **Web Development**: Django 和 Flask 是兩個最常用的 web framework。\n",
      "2. **Machine Learning and AI**: TensorFlow 和 Keras 是兩個最常用的深度學習框架。\n",
      "3. **Data Science**: Pandas 和 NumPy 是兩個最常用的數據分析工具。\n",
      "4. **Game Development**: Pygame 是一個很好的 game development Framework。\n",
      "\n",
      "**結論**\n",
      "\n",
      "Python是一種非常便利的程式語言，適合用於各種領域。它的易使用、高效和多功能性使得它成為一個非常受歡迎的選擇。\n"
     ]
    }
   ],
   "source": [
    "from langchain.prompts import ChatPromptTemplate\n",
    "from langchain_ollama.llms import OllamaLLM\n",
    "from langchain.schema.output_parser import StrOutputParser\n",
    "\n",
    "prompt = ChatPromptTemplate.from_template(\"請介紹{topic}\")\n",
    "model = OllamaLLM(model=\"llama3.2:latest\")\n",
    "output_parser = StrOutputParser()\n",
    "\n",
    "# 使用LCEL語法建立鏈\n",
    "\n",
    "chain = (prompt \n",
    "           | model \n",
    "           | output_parser)\n",
    "\n",
    "print(chain.invoke({\"topic\":\"python\"}))"
   ]
  },
  {
   "cell_type": "code",
   "execution_count": 3,
   "id": "3daecc09",
   "metadata": {},
   "outputs": [],
   "source": [
    "def upgrade_level1(name:str) -> str:\n",
    "    result = f\"\"\"{name}\n",
    "等級1\"\"\"\n",
    "    return result\n",
    "\n",
    "def upgrade_level2(input_str) -> str:\n",
    "    result = f\"\"\"{input_str}\n",
    "等級2\"\"\"\n",
    "    return result\n",
    "\n",
    "def upgrade_level3(input_str) -> str:\n",
    "    result = f\"\"\"{input_str}\n",
    "等級3\"\"\"\n",
    "    return result\n"
   ]
  },
  {
   "cell_type": "code",
   "execution_count": 6,
   "id": "688faac4",
   "metadata": {},
   "outputs": [
    {
     "name": "stdout",
     "output_type": "stream",
     "text": [
      "徐國堂\n",
      "等級1\n",
      "等級2\n",
      "等級3\n",
      "hello\n",
      "2025-10-18 14:41:17.041810\n"
     ]
    }
   ],
   "source": [
    "total = upgrade_level3(upgrade_level2(upgrade_level1(name=\"徐國堂\")))\n",
    "print(total)\n",
    "import datetime\n",
    "print('hello')\n",
    "print(datetime.datetime.now()) # import datetime\n"
   ]
  }
 ],
 "metadata": {
  "kernelspec": {
   "display_name": ".venv",
   "language": "python",
   "name": "python3"
  },
  "language_info": {
   "codemirror_mode": {
    "name": "ipython",
    "version": 3
   },
   "file_extension": ".py",
   "mimetype": "text/x-python",
   "name": "python",
   "nbconvert_exporter": "python",
   "pygments_lexer": "ipython3",
   "version": "3.11.9"
  }
 },
 "nbformat": 4,
 "nbformat_minor": 5
}
