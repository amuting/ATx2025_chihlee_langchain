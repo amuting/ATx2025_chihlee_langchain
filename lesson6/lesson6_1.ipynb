{
 "cells": [
  {
   "cell_type": "code",
   "execution_count": 3,
   "id": "bcf9fa29",
   "metadata": {},
   "outputs": [
    {
     "name": "stdout",
     "output_type": "stream",
     "text": [
      "Python是一種高效的、易學習且广泛應用於多個領域的程式語言。它是由伯尼·波爾（Bernie Palmer）在1989年創立的，並且在1991年被 GUIDO van ROSSUM 重組為現在的Python程式語言。\n",
      "\n",
      "**Python的優點**\n",
      "\n",
      "1. **易學習**: Python是一種相對簡單和方便的程式語言，尤其是為了初学者。\n",
      "2. **通用性**: Python可以用於多個領域，包括機器 learning、web development、data analysis、自动化、科学计算等。\n",
      "3. **高效**: Python是一種動態型程式語言，它的解釋器可以在數據类型和程式行間進行解釋，這使得它能夠快速且高效地運行。\n",
      "4. **巨大 communities**: Python有大量的開源Project和社区支持，提供了許多resources和工具。\n",
      "\n",
      "**Python的使用情況**\n",
      "\n",
      "1. **機器学习**:Python是機器learning中非常常用的程式語言之一，例如TensorFlow、Keras等框架。\n",
      "2. **Web development**:Python也是一個好選擇，例如Django和Flask等Framework。\n",
      "3. **Data analysis**:Python有許多library，如Pandas和NumPy，特別適合數據分析工作。\n",
      "4. **自动化**:Python可以用於自動化工廠線、計算機器等等。\n",
      "5. **科学计算**:Python可以用於數學計算、物理 Simulation等。\n",
      "\n",
      "**python的基本語句**\n",
      "\n",
      "* `print()` :打印字串或數值\n",
      "* `if` :條件判斷\n",
      "* `for` :迴圈控制\n",
      "* `while` :無限循環控制\n",
      "* `def` :定義程式\n",
      "\n",
      "如果你想學習更多Python的基本語句和功能，歡迎問我！\n"
     ]
    }
   ],
   "source": [
    "from langchain.prompts import ChatPromptTemplate\n",
    "from langchain_ollama.llms import OllamaLLM\n",
    "from langchain.schema.output_parser import StrOutputParser\n",
    "\n",
    "prompt = ChatPromptTemplate.from_template(\"請介紹{topic}\")\n",
    "model = OllamaLLM(model=\"llama3.2:latest\")\n",
    "output_parser = StrOutputParser()\n",
    "\n",
    "# 使用LCEL語法建立鏈\n",
    "\n",
    "chain = (prompt \n",
    "           | model \n",
    "           | output_parser)\n",
    "\n",
    "print(chain.invoke({\"topic\":\"python\"}))"
   ]
  },
  {
   "cell_type": "code",
   "execution_count": null,
   "id": "659f3f3b",
   "metadata": {},
   "outputs": [],
   "source": []
  },
  {
   "cell_type": "code",
   "execution_count": null,
   "id": "93fe9486",
   "metadata": {},
   "outputs": [],
   "source": []
  }
 ],
 "metadata": {
  "kernelspec": {
   "display_name": ".venv",
   "language": "python",
   "name": "python3"
  },
  "language_info": {
   "codemirror_mode": {
    "name": "ipython",
    "version": 3
   },
   "file_extension": ".py",
   "mimetype": "text/x-python",
   "name": "python",
   "nbconvert_exporter": "python",
   "pygments_lexer": "ipython3",
   "version": "3.11.9"
  }
 },
 "nbformat": 4,
 "nbformat_minor": 5
}
