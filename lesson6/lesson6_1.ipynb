{
 "cells": [
  {
   "cell_type": "code",
   "execution_count": 1,
   "id": "bcf9fa29",
   "metadata": {},
   "outputs": [
    {
     "name": "stdout",
     "output_type": "stream",
     "text": [
      "python 是一個非常豐富且人氣的 Programming 語言，尤其是用於_data science_、_web development_ 和 _ automation_ 等領域。以下是一些關於 python 的基本信息：\n",
      "\n",
      "### what is python?\n",
      "\n",
      "Python 是一個高級程式語言，由 Bertrand Meyer 和 Guido van Rossum 創立，最初在 1991 年出現。它被設計為是易用的、快速的和簡潔的程式語言。\n",
      "\n",
      "### why use python?\n",
      "\n",
      "python 的使用者人數非常豐富，包括:\n",
      "\n",
      "*   _data science_: Python 是用於_data analysis_、_machine learning_ 和 _deep learning_ 的常用工具。\n",
      "*   _web development_: Django 和 Flask 等框架都利用 python 進行開發。\n",
      "*   _automation_: Python 的 script 可以自動化多種功能。\n",
      "\n",
      "### basic syntax\n",
      "\n",
      "python 的基本語法結構包括：\n",
      "\n",
      "*   **variables**: 使用 `=` 分割變數和值\n",
      "*   **control structures**: 使用 `if`、`elif`、`else` 選擇性控制流程\n",
      "*   **functions**: 使用 `def` 定義函數\n",
      "*   **looping**: 使用 `for` 和 `while` 進行迴圈\n",
      "\n",
      "### popular libraries and frameworks\n",
      "\n",
      "python 有許多豐富的外部套件，可以用來執行特定的功能，例如：\n",
      "\n",
      "*   **NumPy**: 用於數值計算和統計學\n",
      "*   **Pandas**: 用於數據分析和資料處理\n",
      "*   **Django**: 用於 web development\n",
      "*   **Flask**: 用於 web development\n",
      "\n",
      "### get started with python!\n",
      "\n",
      "如果你想開始使用 python，以下是幾個步驟：\n",
      "\n",
      "1.  **安裝 python**:_downloading_ 和 _installation_ 可以在 [python.org](https://www.python.org/downloads/) 找到。\n",
      "2.  **選擇編譯器**: PyCharm、Visual Studio Code 等编译器可以用來執行 python程式。\n",
      "3.  **學習基本語法**: 這裡有許多資源，可以用來學習python基本語法和構造。\n",
      "\n",
      "### example code\n",
      "\n",
      "以下是一個簡單的 python程式，將會打印出 \"Hello, World!\"：\n",
      "\n",
      "```python\n",
      "print(\"Hello, World!\")\n",
      "```\n",
      "\n",
      "這個程式使用了 `print()` 函數，它在輸出變數值時。\n"
     ]
    }
   ],
   "source": [
    "from langchain.prompts import ChatPromptTemplate\n",
    "from langchain_ollama.llms import OllamaLLM\n",
    "from langchain.schema.output_parser import StrOutputParser\n",
    "\n",
    "prompt = ChatPromptTemplate.from_template(\"請介紹{topic}\")\n",
    "model = OllamaLLM(model=\"llama3.2:latest\")\n",
    "output_parser = StrOutputParser()\n",
    "\n",
    "# 使用LCEL語法建立鏈\n",
    "\n",
    "chain = (prompt \n",
    "           | model \n",
    "           | output_parser)\n",
    "\n",
    "print(chain.invoke({\"topic\":\"python\"}))"
   ]
  }
 ],
 "metadata": {
  "kernelspec": {
   "display_name": ".venv",
   "language": "python",
   "name": "python3"
  },
  "language_info": {
   "codemirror_mode": {
    "name": "ipython",
    "version": 3
   },
   "file_extension": ".py",
   "mimetype": "text/x-python",
   "name": "python",
   "nbconvert_exporter": "python",
   "pygments_lexer": "ipython3",
   "version": "3.10.19"
  }
 },
 "nbformat": 4,
 "nbformat_minor": 5
}
