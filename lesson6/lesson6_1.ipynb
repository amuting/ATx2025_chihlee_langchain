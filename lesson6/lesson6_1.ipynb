{
 "cells": [
  {
   "cell_type": "code",
   "execution_count": 1,
   "id": "bcf9fa29",
   "metadata": {},
   "outputs": [
    {
     "name": "stdout",
     "output_type": "stream",
     "text": [
      "**Python 是什麼?**\n",
      "\n",
      "Python是一種高級程式語言，常用於應用程序的開發、數據分析和machine learning等領域。它被設計來簡單易用，並且能夠快速地開發和測試程式。\n",
      "\n",
      "**Python 的特點**\n",
      "\n",
      "1. **簡單易用**: Python的語法和結構非常直觀，需要少量時間才能上手。\n",
      "2. **效率**: Python的執行速度比Java或C++快很多。\n",
      "3. **多平台**: Python可以在Windows、Linux和MacOS等多個系統下運行。\n",
      "4. **生態系統**: Python有豐富的第三方程式庫和框架，提供了許多功能。\n",
      "\n",
      "**Python 的應用**\n",
      "\n",
      "1. **應用程序開發**: Python常用於網站、應用程序、 game 等的開發。\n",
      "2. **數據分析**: Python的 libraries如 NumPy、Pandas 和 Matplotlib 可以輕松地對數據進行分析和視覺化。\n",
      "3. **machine learning**: Python的 libraries 如 Scikit-learn 和 TensorFlow 可以幫助您建構 AI 模型。\n",
      "4. **研究開發**: Python是一種常用工具於科學研究、數學研究等領域。\n",
      "\n",
      "**Python 的基本語法**\n",
      "\n",
      "1. **變數**: 使用`=`來กำหนด變數值。\n",
      "2. **控制流**: 有 `if-else`、`for`、`while` 等的程式結構可以使用。\n",
      "3. **功能**: 可以使用 `def` 語句來定義功能。\n",
      "\n",
      "**Python 的常用庫和框架**\n",
      "\n",
      "1. **NumPy**:數據分析和運算。\n",
      "2. **Pandas**:數據處理和視覺化。\n",
      "3. **Matplotlib**:視覺化。\n",
      "4. **Scikit-learn**:machine learning。\n",
      "5. **Flask/Django**:web應用程序。\n",
      "\n",
      "**Python 的優點**\n",
      "\n",
      "1. **快速開發**: Python的語法和結構簡單易用，可以快速地開發程式。\n",
      "2. **多樣性**: Python有豐富的第三方程式庫和框架，提供了許多功能。\n",
      "3. **可擴展**: Python可以在Windows、Linux和MacOS等多個系統下運行。\n",
      "\n",
      "**Python 的缺點**\n",
      "\n",
      "1. **速度**: Python的執行速度可能比其他程式語言慢一些。\n",
      "2. **記憶體消耗**: Python的程式可能需要較多的記憶體來執行。\n",
      "\n",
      "總之，Python是一種高效、簡單易用的程式語言，適合於應用程序開發、數據分析和 machine learning 等領域。\n"
     ]
    }
   ],
   "source": [
    "from langchain.prompts import ChatPromptTemplate\n",
    "from langchain_ollama.llms import OllamaLLM\n",
    "from langchain.schema.output_parser import StrOutputParser\n",
    "\n",
    "prompt = ChatPromptTemplate.from_template(\"請介紹{topic}\")\n",
    "model = OllamaLLM(model=\"llama3.2:latest\")\n",
    "output_parser = StrOutputParser()\n",
    "\n",
    "# 使用LCEL語法建立鏈\n",
    "\n",
    "chain = (prompt \n",
    "           | model \n",
    "           | output_parser)\n",
    "\n",
    "print(chain.invoke({\"topic\":\"python\"}))"
   ]
  }
 ],
 "metadata": {
  "kernelspec": {
   "display_name": ".venv",
   "language": "python",
   "name": "python3"
  },
  "language_info": {
   "codemirror_mode": {
    "name": "ipython",
    "version": 3
   },
   "file_extension": ".py",
   "mimetype": "text/x-python",
   "name": "python",
   "nbconvert_exporter": "python",
   "pygments_lexer": "ipython3",
   "version": "3.10.18"
  }
 },
 "nbformat": 4,
 "nbformat_minor": 5
}
