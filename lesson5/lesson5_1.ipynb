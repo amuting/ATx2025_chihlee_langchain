{
 "cells": [
  {
   "cell_type": "code",
   "execution_count": null,
   "id": "6e29085c",
   "metadata": {},
   "outputs": [],
   "source": [
    "import gradio as gr\n",
    "\n",
    "def greet(name, intensity):\n",
    "    return \"Hello, \" + name + \"!\" * int(intensity)\n",
    "\n",
    "demo = gr.Interface(\n",
    "    fn=greet,\n",
    "    inputs=[\"text\", \"slider\"],\n",
    "    outputs=[\"text\"],\n",
    ")\n",
    "\n",
    "demo.launch()\n"
   ]
  },
  {
   "cell_type": "code",
   "execution_count": null,
   "id": "fe1c5458",
   "metadata": {},
   "outputs": [],
   "source": [
    "import gradio as gr\n",
    "\n",
    "def greet(name, intensity):\n",
    "    return \"Hello, \" + name + \"!\" * int(intensity)\n",
    "\n",
    "demo = gr.Interface(\n",
    "    fn=greet,\n",
    "    inputs=[\"text\", \"slider\"],\n",
    "    outputs=[\"text\"],\n",
    "    examples = [[\"徐國堂\",3],[\"徐瑞彤\",4]]\n",
    ")\n",
    "demo.launch()\n"
   ]
  },
  {
   "cell_type": "code",
   "execution_count": null,
   "id": "b2b3f4d9",
   "metadata": {},
   "outputs": [],
   "source": []
  },
  {
   "cell_type": "code",
   "execution_count": null,
   "id": "917764dc",
   "metadata": {},
   "outputs": [],
   "source": []
  },
  {
   "cell_type": "code",
   "execution_count": 4,
   "id": "19fd5ba8",
   "metadata": {},
   "outputs": [
    {
     "name": "stdout",
     "output_type": "stream",
     "text": [
      "\n",
      "請以一個專業且充滿情感的敘事者角度，根據以下的主題和風格創作一個短篇故事：\n",
      "\n",
      "主題 (Topic)：一隻夢想飛行的企鵝\n",
      "風格 (Style)：充滿希望和鼓舞人心的童話\n",
      "\n",
      "故事開始：\n",
      "\n"
     ]
    }
   ],
   "source": [
    "from langchain.prompts import PromptTemplate\n",
    "\n",
    "# 1. 定義模板和變數\n",
    "story_template = \"\"\"\n",
    "請以一個專業且充滿情感的敘事者角度，根據以下的主題和風格創作一個短篇故事：\n",
    "\n",
    "主題 (Topic)：{topic}\n",
    "風格 (Style)：{style}\n",
    "\n",
    "故事開始：\n",
    "\"\"\"\n",
    "\n",
    "# 2. 實例化 PromptTemplate\n",
    "story_prompt = PromptTemplate(\n",
    "    input_variables=[\"topic\", \"style\"], # 變數名稱必須和模板中的佔位符匹配\n",
    "    template=story_template\n",
    ")\n",
    "\n",
    "# 3. 格式化提示 (提供變數值)\n",
    "final_prompt_string = story_prompt.format(\n",
    "    topic=\"一隻夢想飛行的企鵝\",\n",
    "    style=\"充滿希望和鼓舞人心的童話\"\n",
    ")\n",
    "\n",
    "# 4. 顯示結果\n",
    "print(final_prompt_string)"
   ]
  }
 ],
 "metadata": {
  "kernelspec": {
   "display_name": ".venv",
   "language": "python",
   "name": "python3"
  },
  "language_info": {
   "codemirror_mode": {
    "name": "ipython",
    "version": 3
   },
   "file_extension": ".py",
   "mimetype": "text/x-python",
   "name": "python",
   "nbconvert_exporter": "python",
   "pygments_lexer": "ipython3",
   "version": "3.11.14"
  }
 },
 "nbformat": 4,
 "nbformat_minor": 5
}
