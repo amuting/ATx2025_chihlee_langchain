{
 "cells": [
  {
   "cell_type": "code",
   "execution_count": 2,
   "id": "1f4ce28b",
   "metadata": {},
   "outputs": [
    {
     "data": {
      "text/plain": [
       "10"
      ]
     },
     "execution_count": 2,
     "metadata": {},
     "output_type": "execute_result"
    }
   ],
   "source": [
    "i = 10\n",
    "i + 50\n",
    "i"
   ]
  },
  {
   "cell_type": "code",
   "execution_count": 3,
   "id": "45ee6988",
   "metadata": {},
   "outputs": [
    {
     "data": {
      "text/plain": [
       "60"
      ]
     },
     "execution_count": 3,
     "metadata": {},
     "output_type": "execute_result"
    }
   ],
   "source": [
    "i = 10\n",
    "i = i + 50\n",
    "i"
   ]
  },
  {
   "cell_type": "code",
   "execution_count": 4,
   "id": "86eed73c",
   "metadata": {},
   "outputs": [
    {
     "data": {
      "text/plain": [
       "60"
      ]
     },
     "execution_count": 4,
     "metadata": {},
     "output_type": "execute_result"
    }
   ],
   "source": [
    "i = 10\n",
    "# 複合指定運算子彈\n",
    "i += 50\n",
    "i"
   ]
  },
  {
   "cell_type": "code",
   "execution_count": 13,
   "id": "ccd9eacf",
   "metadata": {},
   "outputs": [
    {
     "data": {
      "text/plain": [
       "55"
      ]
     },
     "execution_count": 13,
     "metadata": {},
     "output_type": "execute_result"
    }
   ],
   "source": [
    "i = 0\n",
    "i += 1\n",
    "i += 2\n",
    "i += 3\n",
    "i += 4\n",
    "i += 5\n",
    "i += 6\n",
    "i += 7\n",
    "i += 8\n",
    "i += 9\n",
    "i += 10\n",
    "i\n"
   ]
  },
  {
   "cell_type": "code",
   "execution_count": 12,
   "id": "dae4e1f6",
   "metadata": {},
   "outputs": [
    {
     "data": {
      "text/plain": [
       "'55,10'"
      ]
     },
     "execution_count": 12,
     "metadata": {},
     "output_type": "execute_result"
    }
   ],
   "source": [
    "i = 0\n",
    "for j in range(1,11):\n",
    "    i += j\n",
    "f\"{i},{j}\"\n"
   ]
  },
  {
   "cell_type": "code",
   "execution_count": 11,
   "id": "189b7688",
   "metadata": {},
   "outputs": [
    {
     "data": {
      "text/plain": [
       "'5050,100'"
      ]
     },
     "execution_count": 11,
     "metadata": {},
     "output_type": "execute_result"
    }
   ],
   "source": [
    "i = 0\n",
    "for j in range(1,101):\n",
    "    i += j\n",
    "f\"{i},{j}\"\n"
   ]
  },
  {
   "cell_type": "code",
   "execution_count": 14,
   "id": "c9414122",
   "metadata": {},
   "outputs": [
    {
     "name": "stdout",
     "output_type": "stream",
     "text": [
      "0\n",
      "1\n",
      "2\n",
      "3\n",
      "4\n",
      "5\n",
      "6\n",
      "7\n",
      "8\n",
      "9\n"
     ]
    }
   ],
   "source": [
    "i = 0\n",
    "for j in range(10):\n",
    "    print(j)\n"
   ]
  },
  {
   "cell_type": "code",
   "execution_count": 16,
   "id": "eb9ce707",
   "metadata": {},
   "outputs": [
    {
     "name": "stdout",
     "output_type": "stream",
     "text": [
      "END.\n"
     ]
    }
   ],
   "source": [
    "while True:\n",
    "    break\n",
    "print('END.')"
   ]
  },
  {
   "cell_type": "markdown",
   "id": "26327982",
   "metadata": {},
   "source": [
    "我來為您提供 `while`、`break` 和 `continue` 的簡單範例。讓我先查看一下您目前的課程內容，然後提供適合的範例。\n",
    "\n",
    "\n",
    "[1 tool called]\n",
    "\n",
    "我看到您已經有一些基本的範例了。讓我為您提供更完整的 `while`、`break` 和 `continue` 的簡單範例：\n",
    "\n",
    "## �� While 迴圈基本範例\n",
    "\n",
    "### 1. 基本的 while 迴圈\n",
    "```python\n",
    "# 計算 1 到 10 的總和\n",
    "i = 1\n",
    "total = 0\n",
    "while i <= 10:\n",
    "    total += i\n",
    "    i += 1\n",
    "print(f\"1 到 10 的總和是: {total}\")\n",
    "```\n",
    "\n",
    "### 2. 使用 break 跳出迴圈\n",
    "```python\n",
    "# 找到第一個大於 50 的數字就停止\n",
    "i = 1\n",
    "while i <= 100:\n",
    "    if i > 50:\n",
    "        print(f\"找到大於 50 的數字: {i}\")\n",
    "        break  # 跳出迴圈\n",
    "    i += 1\n",
    "print(\"迴圈結束\")\n",
    "```\n",
    "\n",
    "### 3. 使用 continue 跳過本次迴圈\n",
    "```python\n",
    "# 只印出奇數，跳過偶數\n",
    "i = 1\n",
    "while i <= 10:\n",
    "    if i % 2 == 0:  # 如果是偶數\n",
    "        i += 1\n",
    "        continue  # 跳過本次迴圈，繼續下一次\n",
    "    print(f\"奇數: {i}\")\n",
    "    i += 1\n",
    "```\n",
    "\n",
    "### 4. 實用的範例：猜數字遊戲\n",
    "```python\n",
    "import random\n",
    "\n",
    "# 產生 1 到 100 的隨機數字\n",
    "secret_number = random.randint(1, 100)\n",
    "guess = 0\n",
    "attempts = 0\n",
    "\n",
    "print(\"歡迎來到猜數字遊戲！\")\n",
    "print(\"請猜一個 1 到 100 之間的數字\")\n",
    "\n",
    "while guess != secret_number:\n",
    "    try:\n",
    "        guess = int(input(\"請輸入你的猜測: \"))\n",
    "        attempts += 1\n",
    "        \n",
    "        if guess < secret_number:\n",
    "            print(\"太小了！再試一次\")\n",
    "        elif guess > secret_number:\n",
    "            print(\"太大了！再試一次\")\n",
    "        else:\n",
    "            print(f\"恭喜你！你猜對了！答案是 {secret_number}\")\n",
    "            print(f\"你總共猜了 {attempts} 次\")\n",
    "            break\n",
    "    except ValueError:\n",
    "        print(\"請輸入有效的數字！\")\n",
    "        continue\n",
    "```\n",
    "\n",
    "### 5. 使用 while 讀取使用者輸入直到特定條件\n",
    "```python\n",
    "# 持續詢問使用者輸入，直到輸入 'quit' 為止\n",
    "user_input = \"\"\n",
    "while user_input.lower() != 'quit':\n",
    "    user_input = input(\"請輸入一些文字 (輸入 'quit' 結束): \")\n",
    "    if user_input.lower() != 'quit':\n",
    "        print(f\"你輸入了: {user_input}\")\n",
    "print(\"程式結束\")\n",
    "```\n",
    "\n",
    "## �� 重點說明\n",
    "\n",
    "- **while**: 當條件為 `True` 時持續執行迴圈\n",
    "- **break**: 立即跳出整個迴圈\n",
    "- **continue**: 跳過本次迴圈，繼續下一次迴圈\n",
    "- 記得在 while 迴圈中要有改變條件的語句，否則可能造成無限迴圈\n",
    "\n",
    "這些範例應該能幫助您理解 `while`、`break` 和 `continue` 的基本用法！"
   ]
  },
  {
   "cell_type": "code",
   "execution_count": 4,
   "id": "dc5e5428",
   "metadata": {},
   "outputs": [
    {
     "name": "stdout",
     "output_type": "stream",
     "text": [
      "歡迎來到猜數字遊戲！\n",
      "請猜一個 1 到 10 之間的數字\n",
      "9,太大了！再試一次\n",
      "4,太小了！再試一次\n",
      "6,太大了！再試一次\n",
      "7,太大了！再試一次\n",
      "恭喜你！你猜對了！答案是 5\n",
      "你總共猜了 5 次\n",
      "遊戲結束!!!\n"
     ]
    }
   ],
   "source": [
    "import random\n",
    "# 產生 1 到 MAX 的隨機數字\n",
    "MAX=10\n",
    "secret_number = random.randint(1, MAX)\n",
    "guess = 0\n",
    "attempts = 0\n",
    "\n",
    "print(\"歡迎來到猜數字遊戲！\")\n",
    "print(f\"請猜一個 1 到 {MAX} 之間的數字\")\n",
    "\n",
    "while guess != secret_number:\n",
    "    try:\n",
    "        guess = int(input(\"請輸入你的猜測: \"))\n",
    "        attempts += 1\n",
    "        \n",
    "        if guess < secret_number:\n",
    "            print(f\"{guess},太小了！再試一次\")\n",
    "        elif guess > secret_number:\n",
    "            print(f\"{guess},太大了！再試一次\")\n",
    "        else:\n",
    "            print(f\"恭喜你！你猜對了！答案是 {secret_number}\")\n",
    "            print(f\"你總共猜了 {attempts} 次\")\n",
    "            break\n",
    "    except ValueError:\n",
    "        print(f\"{guess},請輸入有效的數字！\")\n",
    "        continue\n",
    "\n",
    "print('遊戲結束!!!')\n"
   ]
  }
 ],
 "metadata": {
  "kernelspec": {
   "display_name": "langChain",
   "language": "python",
   "name": "python3"
  },
  "language_info": {
   "codemirror_mode": {
    "name": "ipython",
    "version": 3
   },
   "file_extension": ".py",
   "mimetype": "text/x-python",
   "name": "python",
   "nbconvert_exporter": "python",
   "pygments_lexer": "ipython3",
   "version": "3.11.13"
  }
 },
 "nbformat": 4,
 "nbformat_minor": 5
}
