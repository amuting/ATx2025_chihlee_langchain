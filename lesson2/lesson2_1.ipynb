{
 "cells": [
  {
   "cell_type": "markdown",
   "id": "a080dac1",
   "metadata": {},
   "source": [
    "## python 數學運算"
   ]
  },
  {
   "cell_type": "markdown",
   "id": "5d85f95c",
   "metadata": {},
   "source": [
    "\n",
    "### 基本語法 ,, 變數名稱 = 值 (資料類型)\n",
    "name = \"小明\"\n",
    "age = 18\n",
    "height = 175.5\n",
    "is_student = True"
   ]
  },
  {
   "cell_type": "markdown",
   "id": "610a56b8",
   "metadata": {},
   "source": [
    "# python 標準函式庫"
   ]
  },
  {
   "cell_type": "code",
   "execution_count": null,
   "id": "79e36af9",
   "metadata": {},
   "outputs": [
    {
     "data": {
      "text/plain": [
       "str"
      ]
     },
     "execution_count": 2,
     "metadata": {},
     "output_type": "execute_result"
    }
   ],
   "source": [
    "name = \"小明\"\n",
    "# Python 標準函式庫 (Standard Library),內建函式,https://docs.python.org/zh-tw/3/library/functions.html\n",
    "type(name)"
   ]
  },
  {
   "cell_type": "code",
   "execution_count": null,
   "id": "7c043ecc",
   "metadata": {},
   "outputs": [
    {
     "name": "stdout",
     "output_type": "stream",
     "text": [
      "<class 'str'>\n"
     ]
    }
   ],
   "source": [
    "name = \"小明\"\n",
    "# Python 標準函式庫 (Standard Library),內建函式,https://docs.python.org/zh-tw/3/library/functions.html\n",
    "print(type(name))"
   ]
  },
  {
   "cell_type": "code",
   "execution_count": 7,
   "id": "cbd0eeed",
   "metadata": {},
   "outputs": [
    {
     "name": "stdout",
     "output_type": "stream",
     "text": [
      "<class 'str'> 小明\n",
      "=========\n",
      "<class 'int'> 18\n",
      "=========\n",
      "<class 'float'> 175.5\n",
      "=========\n",
      "<class 'bool'> True\n",
      "=========\n",
      "<class 'str'> <class 'int'> <class 'float'> <class 'bool'>\n"
     ]
    }
   ],
   "source": [
    "name = \"小明\"\n",
    "print(type(name),name)\n",
    "print('=========')\n",
    "age = 18\n",
    "print(type(age),age)\n",
    "print('=========')\n",
    "height = 175.5\n",
    "print(type(height),height)\n",
    "print('=========')\n",
    "is_student = True\n",
    "print(type(is_student),is_student)\n",
    "print('=========')\n",
    "# Python 標準函式庫 (Standard Library),內建函式,https://docs.python.org/zh-tw/3/library/functions.html\n",
    "print(type(name),type(age),type(height),type(is_student))"
   ]
  },
  {
   "cell_type": "markdown",
   "id": "e6768766",
   "metadata": {},
   "source": [
    "#### 參數(paramater)\n",
    "print(*objects, sep=' ', end='\\n', file=None, flush=False)\n",
    "---\n",
    "(*objects)\n",
    "---\n",
    "(*) : 沒有限定引數數量\n",
    "---\n",
    "有預設值的參數，可以省略\n",
    "---\n"
   ]
  },
  {
   "cell_type": "code",
   "execution_count": 11,
   "id": "17425d5a",
   "metadata": {},
   "outputs": [
    {
     "name": "stdout",
     "output_type": "stream",
     "text": [
      "name變數的儲存值是： 小明 ,資料類型是： <class 'str'>\n"
     ]
    }
   ],
   "source": [
    "print(\"name變數的儲存值是：\",name,\",資料類型是：\",type(name))"
   ]
  },
  {
   "cell_type": "code",
   "execution_count": 22,
   "id": "8aa381d8",
   "metadata": {},
   "outputs": [
    {
     "name": "stdout",
     "output_type": "stream",
     "text": [
      "name變數的儲存值是：小明,資料類型是：<class 'str'>.\n",
      ";\n",
      "age變數的儲存值是：18,資料類型是：<class 'int'>.\n",
      ";\n"
     ]
    }
   ],
   "source": [
    "print(\"name變數的儲存值是：\",name,\",資料類型是：\",type(name),sep='',end='.\\n;\\n')\n",
    "print(\"age變數的儲存值是：\",age,\",資料類型是：\",type(age),sep='',end='.\\n;\\n')\n",
    "#type(name)"
   ]
  },
  {
   "cell_type": "code",
   "execution_count": 30,
   "id": "2a20bb51",
   "metadata": {},
   "outputs": [
    {
     "data": {
      "text/plain": [
       "\"name變數的儲存值是：小明,資料類型是：<class 'str'>\""
      ]
     },
     "execution_count": 30,
     "metadata": {},
     "output_type": "execute_result"
    }
   ],
   "source": [
    "# 字串插補，變數和字串整合，傳出全新的字串\n",
    "f\"name變數的儲存值是：{name},資料類型是：{type(name)}\""
   ]
  },
  {
   "cell_type": "code",
   "execution_count": 29,
   "id": "d57ee2b2",
   "metadata": {},
   "outputs": [
    {
     "name": "stdout",
     "output_type": "stream",
     "text": [
      "age變數的儲存值是：18,資料類型是：<class 'int'>.\n",
      ";\n"
     ]
    }
   ],
   "source": [
    "# 字串插補，變數和字串整合，傳出全新的字串\n",
    "print(f\"age變數的儲存值是：{age},資料類型是：{type(age)}\",sep='',end='.\\n;\\n')"
   ]
  },
  {
   "cell_type": "code",
   "execution_count": 28,
   "id": "f064c447",
   "metadata": {},
   "outputs": [
    {
     "name": "stdout",
     "output_type": "stream",
     "text": [
      "name變數的儲存值是：小明,資料類型是：<class 'str'>.\n",
      ";\n",
      "\n"
     ]
    }
   ],
   "source": [
    "# 字串插補，變數和字串整合，傳出全新的字串\n",
    "print(f\"name變數的儲存值是：{name},資料類型是：{type(name)}.\\n;\\n\")"
   ]
  },
  {
   "cell_type": "markdown",
   "id": "549ad97a",
   "metadata": {},
   "source": []
  }
 ],
 "metadata": {
  "kernelspec": {
   "display_name": "langChain",
   "language": "python",
   "name": "python3"
  },
  "language_info": {
   "codemirror_mode": {
    "name": "ipython",
    "version": 3
   },
   "file_extension": ".py",
   "mimetype": "text/x-python",
   "name": "python",
   "nbconvert_exporter": "python",
   "pygments_lexer": "ipython3",
   "version": "3.11.13"
  }
 },
 "nbformat": 4,
 "nbformat_minor": 5
}
