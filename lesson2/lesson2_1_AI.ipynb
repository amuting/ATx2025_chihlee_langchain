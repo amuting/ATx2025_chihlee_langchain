{
 "cells": [
  {
   "cell_type": "markdown",
   "id": "a080dac1",
   "metadata": {},
   "source": [
    "## python 數學運算"
   ]
  },
  {
   "cell_type": "markdown",
   "id": "5d85f95c",
   "metadata": {},
   "source": [
    "\n",
    "### 基本語法 ,, 變數名稱 = 值 (資料類型)\n",
    "name = \"小明\"\n",
    "age = 18\n",
    "height = 175.5\n",
    "is_student = True"
   ]
  },
  {
   "cell_type": "markdown",
   "id": "610a56b8",
   "metadata": {},
   "source": [
    "# python 標準函式庫"
   ]
  },
  {
   "cell_type": "code",
   "execution_count": null,
   "id": "79e36af9",
   "metadata": {},
   "outputs": [
    {
     "data": {
      "text/plain": [
       "str"
      ]
     },
     "execution_count": 1,
     "metadata": {},
     "output_type": "execute_result"
    }
   ],
   "source": [
    "import datetime\n",
    "name = \"小明\"\n",
    "# Python 標準函式庫 (Standard Library),內建函式,https://docs.python.org/zh-tw/3/library/functions.html\n",
    "type(name)\n",
    "print(datetime.datetime.now())"
   ]
  },
  {
   "cell_type": "code",
   "execution_count": 4,
   "id": "7c043ecc",
   "metadata": {},
   "outputs": [
    {
     "name": "stdout",
     "output_type": "stream",
     "text": [
      "<class 'str'>\n"
     ]
    }
   ],
   "source": [
    "name = \"小明\"\n",
    "# Python 標準函式庫 (Standard Library),內建函式,https://docs.python.org/zh-tw/3/library/functions.html\n",
    "print(type(name))"
   ]
  },
  {
   "cell_type": "code",
   "execution_count": null,
   "id": "cbd0eeed",
   "metadata": {},
   "outputs": [
    {
     "name": "stdout",
     "output_type": "stream",
     "text": [
      "=========\n",
      "<class 'int'> 18\n",
      "=========\n",
      "<class 'bool'> True\n",
      "=========\n",
      "<class 'str'> <class 'int'> <class 'float'> <class 'bool'>\n",
      "2025-09-10 21:26:02.594678\n"
     ]
    }
   ],
   "source": [
    "\n",
    "name = \"小明\"\n",
    "# Python 標準函式庫 (Standard Library),內建函式,https://docs.python.org/zh-tw/3/library/functions.html\n",
    "type(name)\n",
    "print('=========')\n",
    "age = 18\n",
    "print(type(age),age)\n",
    "print('=========')\n",
    "\n",
    "is_student = True\n",
    "print(type(is_student),is_student)\n",
    "print('=========')\n",
    "# Python 標準函式庫 (Standard Library),內建函式,https://docs.python.org/zh-tw/3/library/functions.html\n",
    "print(type(name),type(age),type(height),type(is_student))\n",
    "print(datetime.datetime.now())"
   ]
  },
  {
   "cell_type": "markdown",
   "id": "e6768766",
   "metadata": {},
   "source": [
    "#### 參數(paramater)\n",
    "```\n",
    "print(*objects, sep=' ', end='\\n', file=None, flush=False)\n",
    "---\n",
    "(*objects)\n",
    "---\n",
    "(*) : 沒有限定引數數量\n",
    "---\n",
    "有預設值的參數，可以省略\n",
    "---\n",
    "```"
   ]
  },
  {
   "cell_type": "code",
   "execution_count": 11,
   "id": "17425d5a",
   "metadata": {},
   "outputs": [
    {
     "name": "stdout",
     "output_type": "stream",
     "text": [
      "name變數的儲存值是： 小明 ,資料類型是： <class 'str'>\n"
     ]
    }
   ],
   "source": [
    "print(\"name變數的儲存值是：\",name,\",資料類型是：\",type(name))"
   ]
  },
  {
   "cell_type": "code",
   "execution_count": 22,
   "id": "8aa381d8",
   "metadata": {},
   "outputs": [
    {
     "name": "stdout",
     "output_type": "stream",
     "text": [
      "name變數的儲存值是：小明,資料類型是：<class 'str'>.\n",
      ";\n",
      "age變數的儲存值是：18,資料類型是：<class 'int'>.\n",
      ";\n"
     ]
    }
   ],
   "source": [
    "print(\"name變數的儲存值是：\",name,\",資料類型是：\",type(name),sep='',end='.\\n;\\n')\n",
    "print(\"age變數的儲存值是：\",age,\",資料類型是：\",type(age),sep='',end='.\\n;\\n')\n",
    "#type(name)"
   ]
  },
  {
   "cell_type": "code",
   "execution_count": 30,
   "id": "2a20bb51",
   "metadata": {},
   "outputs": [
    {
     "data": {
      "text/plain": [
       "\"name變數的儲存值是：小明,資料類型是：<class 'str'>\""
      ]
     },
     "execution_count": 30,
     "metadata": {},
     "output_type": "execute_result"
    }
   ],
   "source": [
    "# 字串插補，變數和字串整合，傳出全新的字串\n",
    "f\"name變數的儲存值是：{name},資料類型是：{type(name)}\""
   ]
  },
  {
   "cell_type": "code",
   "execution_count": 29,
   "id": "d57ee2b2",
   "metadata": {},
   "outputs": [
    {
     "name": "stdout",
     "output_type": "stream",
     "text": [
      "age變數的儲存值是：18,資料類型是：<class 'int'>.\n",
      ";\n"
     ]
    }
   ],
   "source": [
    "# 字串插補，變數和字串整合，傳出全新的字串\n",
    "print(f\"age變數的儲存值是：{age},資料類型是：{type(age)}\",sep='',end='.\\n;\\n')"
   ]
  },
  {
   "cell_type": "code",
   "execution_count": 28,
   "id": "f064c447",
   "metadata": {},
   "outputs": [
    {
     "name": "stdout",
     "output_type": "stream",
     "text": [
      "name變數的儲存值是：小明,資料類型是：<class 'str'>.\n",
      ";\n",
      "\n"
     ]
    }
   ],
   "source": [
    "# 字串插補，變數和字串整合，傳出全新的字串\n",
    "print(f\"name變數的儲存值是：{name},資料類型是：{type(name)}.\\n;\\n\")"
   ]
  },
  {
   "cell_type": "code",
   "execution_count": 32,
   "id": "c20eba32",
   "metadata": {},
   "outputs": [
    {
     "name": "stdout",
     "output_type": "stream",
     "text": [
      "a = 7, b = 3\n",
      "加法: 7 + 3 = 10\n",
      "減法: 7 - 3 = 4\n",
      "乘法: 7 * 3 = 21\n",
      "除法: 7 / 3 = 2.3333333333333335\n",
      "除法: 7 / 3 = 2.33333\n",
      "整數除法: 7 // 3 = 2\n",
      "餘數: 7 % 3 = 1\n",
      "次方: 7 ** 3 = 343\n"
     ]
    }
   ],
   "source": [
    "# 基本四則運算\n",
    "a = 7\n",
    "b = 3\n",
    "\n",
    "print(f\"a = {a}, b = {b}\")\n",
    "print(f\"加法: {a} + {b} = {a + b}\")\n",
    "print(f\"減法: {a} - {b} = {a - b}\")\n",
    "print(f\"乘法: {a} * {b} = {a * b}\")\n",
    "print(f\"除法: {a} / {b} = {a / b}\")\n",
    "print(f\"除法: {a} / {b} = {a / b:.5f}\")\n",
    "print(f\"整數除法: {a} // {b} = {a // b}\")\n",
    "print(f\"餘數: {a} % {b} = {a % b}\")\n",
    "print(f\"次方: {a} ** {b} = {a ** b}\")\n"
   ]
  },
  {
   "cell_type": "code",
   "execution_count": 33,
   "id": "ed051147",
   "metadata": {},
   "outputs": [
    {
     "name": "stdout",
     "output_type": "stream",
     "text": [
      "加法: a + b = 10\n",
      "減法: a - b = 4\n",
      "乘法: a * b = 21\n",
      "除法: a / b = 2.3333333333333335\n",
      "除法: a / b = 2.33333\n",
      "整數除法: a // b = 2\n",
      "餘數: a % b = 1\n",
      "次方: a ** b = 343\n"
     ]
    }
   ],
   "source": [
    "a = 7\n",
    "b = 3\n",
    "\n",
    "print(f\"加法: a + b = {a + b}\")\n",
    "print(f\"減法: a - b = {a - b}\")\n",
    "print(f\"乘法: a * b = {a * b}\")\n",
    "print(f\"除法: a / b = {a / b}\")\n",
    "print(f\"除法: a / b = {a / b:.5f}\")\n",
    "print(f\"整數除法: a // b = {a // b}\")\n",
    "print(f\"餘數: a % b = {a % b}\")\n",
    "print(f\"次方: a ** b = {a ** b}\")\n"
   ]
  },
  {
   "cell_type": "code",
   "execution_count": 37,
   "id": "312ea1dd",
   "metadata": {},
   "outputs": [
    {
     "name": "stdout",
     "output_type": "stream",
     "text": [
      "已知直角三角形的兩股長為 a = 3, b = 4\n",
      "斜邊長 c = (a^2 + b^2)^0.5 = 5.0\n"
     ]
    }
   ],
   "source": [
    "# 有一個直角三角型，已知兩邊長，求第三邊長\n",
    "# 已知兩邊長，求第三邊長\n",
    "# 已知直角三角形的兩股長 a, b，求斜邊長 c\n",
    "# 使用畢氏定理：c = (a**2 + b**2) ** 0.5\n",
    "\n",
    "a = 3\n",
    "b = 4\n",
    "c = (a**2 + b**2) ** 0.5\n",
    "\n",
    "print(f\"已知直角三角形的兩股長為 a = {a}, b = {b}\")\n",
    "print(f\"斜邊長 c = (a^2 + b^2)^0.5 = {c}\")\n"
   ]
  },
  {
   "cell_type": "code",
   "execution_count": 46,
   "id": "c83df5aa",
   "metadata": {},
   "outputs": [
    {
     "data": {
      "text/plain": [
       "'41,6.40'"
      ]
     },
     "execution_count": 46,
     "metadata": {},
     "output_type": "execute_result"
    }
   ],
   "source": [
    "a = 5\n",
    "b = 4\n",
    "c = (a**2 + b**2) ** 0.5\n",
    "t = (a**2 + b**2)\n",
    "f\"{t},{c:.2f}\""
   ]
  },
  {
   "cell_type": "code",
   "execution_count": 45,
   "id": "d6359825",
   "metadata": {},
   "outputs": [
    {
     "name": "stdout",
     "output_type": "stream",
     "text": [
      "斜邊長 c = (a^2 + b^2)^0.5 = 6.40\n"
     ]
    }
   ],
   "source": [
    "import math\n",
    "t = (a**2 + b**2)\n",
    "hypot = math.sqrt(t)\n",
    "print(f\"斜邊長 c = (a^2 + b^2)^0.5 = {hypot:.2f}\")\n"
   ]
  },
  {
   "cell_type": "markdown",
   "id": "549ad97a",
   "metadata": {},
   "source": []
  }
 ],
 "metadata": {
  "kernelspec": {
   "display_name": "langchain",
   "language": "python",
   "name": "python3"
  },
  "language_info": {
   "codemirror_mode": {
    "name": "ipython",
    "version": 3
   },
   "file_extension": ".py",
   "mimetype": "text/x-python",
   "name": "python",
   "nbconvert_exporter": "python",
   "pygments_lexer": "ipython3",
   "version": "3.11.13"
  }
 },
 "nbformat": 4,
 "nbformat_minor": 5
}
