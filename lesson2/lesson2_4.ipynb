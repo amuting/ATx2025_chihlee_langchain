{
 "cells": [
  {
   "cell_type": "code",
   "execution_count": 1,
   "id": "d859840b",
   "metadata": {},
   "outputs": [
    {
     "name": "stdout",
     "output_type": "stream",
     "text": [
      "    *\n",
      "   ***\n",
      "  *****\n",
      " *******\n",
      "*********\n",
      "    ||\n",
      "    ||\n",
      "\n",
      "\n",
      "         *\n",
      "        ***\n",
      "       *****\n",
      "      *******\n",
      "     *********\n",
      "    ***********\n",
      "   *************\n",
      "  ***************\n",
      " *****************\n",
      "*******************\n",
      "        |||||\n",
      "        |||||\n",
      "        |||||\n"
     ]
    }
   ],
   "source": [
    "def christmas_tree(n, current_n=1):\n",
    "    \"\"\"\n",
    "    使用遞迴方式印出聖誕樹。\n",
    "    \n",
    "    參數:\n",
    "    n (int): 聖誕樹的高度 (樹葉部分)。\n",
    "    current_n (int): 目前遞迴的層數，預設從 1 開始。\n",
    "    \"\"\"\n",
    "    if n > 0:\n",
    "        # 印出樹葉\n",
    "        if current_n <= n:\n",
    "            print(' ' * (n - current_n) + '*' * (2 * current_n - 1))\n",
    "            christmas_tree(n, current_n + 1)\n",
    "        # 印出樹幹 (只在遞迴的最後一層印出)\n",
    "        elif current_n == n + 1:\n",
    "            # 樹幹的高度為樹葉高度的 1/3，四捨五入\n",
    "            trunk_height = round(n / 3)\n",
    "            # 樹幹的寬度為樹葉最寬部分的 1/4，四捨五入\n",
    "            trunk_width = round((2 * n - 1) / 4)\n",
    "            # 確保樹幹至少有一點寬度，如果太小就設定為1\n",
    "            if trunk_width < 1:\n",
    "                trunk_width = 1\n",
    "\n",
    "            for _ in range(trunk_height):\n",
    "                print(' ' * (n - round(trunk_width / 2)) + '|' * trunk_width)\n",
    "\n",
    "# 範例\n",
    "christmas_tree(5)\n",
    "print('\\n')\n",
    "christmas_tree(10)"
   ]
  },
  {
   "cell_type": "markdown",
   "id": "8ec00501",
   "metadata": {},
   "source": []
  },
  {
   "cell_type": "code",
   "execution_count": null,
   "id": "a3393458",
   "metadata": {},
   "outputs": [
    {
     "name": "stdout",
     "output_type": "stream",
     "text": [
      "       *\n",
      "      ***\n",
      "     *****\n",
      "    *******\n",
      "   *********\n",
      "  ***********\n",
      " *************\n",
      "***************\n",
      "       |\n"
     ]
    }
   ],
   "source": [
    "# python 列印聖誕樹 function 不用迴圈，不用遞迴，要有樹葉和樹幹\n",
    "def christmas_tree(height):\n",
    "    \"\"\"\n",
    "    Prints a Christmas tree of a given height without using loops or recursion.\n",
    "    The tree consists of leaves and a trunk.\n",
    "\n",
    "    :param height: The height of the Christmas tree.\n",
    "    :return: None\n",
    "    \"\"\"\n",
    "\n",
    "    if height <= 0:\n",
    "        print(\"Please enter a positive height for the Christmas tree.\")\n",
    "        return\n",
    "\n",
    "    # Helper function to generate a single row of the tree\n",
    "    def row_str(row_index):\n",
    "        # The number of stars in a row is 2 * row_index + 1\n",
    "        stars = '*' * (2 * row_index + 1)\n",
    "        # The number of spaces is height - 1 - row_index\n",
    "        spaces = ' ' * (height - 1 - row_index)\n",
    "        return spaces + stars\n",
    "\n",
    "    # Helper function to print the tree leaves\n",
    "    def print_leaves(h):\n",
    "        if h > 0:\n",
    "            print_leaves(h - 1)\n",
    "            print(row_str(h - 1))\n",
    "\n",
    "    # Helper function to print the trunk\n",
    "    def print_trunk(h):\n",
    "        # The number of spaces for the trunk is the same as the last row of the leaves\n",
    "        spaces = ' ' * (h - 1)\n",
    "        trunk = spaces + '|'\n",
    "        print(trunk)\n",
    "\n",
    "    # Print the tree\n",
    "    print_leaves(height)\n",
    "    print_trunk(height)\n",
    "\n",
    "# Example usage:\n",
    "christmas_tree(8)"
   ]
  },
  {
   "cell_type": "code",
   "execution_count": null,
   "id": "3fca3e68",
   "metadata": {},
   "outputs": [],
   "source": []
  },
  {
   "cell_type": "code",
   "execution_count": 5,
   "id": "5640635f",
   "metadata": {},
   "outputs": [
    {
     "name": "stdout",
     "output_type": "stream",
     "text": [
      "\n",
      "  *\n",
      " ***\n",
      "*****\n",
      "  |\n",
      "  |\n",
      "  |\n",
      "\n"
     ]
    }
   ],
   "source": [
    "def christmas_tree_no_loops(height):\n",
    "    \"\"\"\n",
    "    Prints a Christmas tree of a given height without using loops or recursion.\n",
    "    This is achieved by hardcoding the tree for a small, fixed height and\n",
    "    using string multiplication for the trunk.\n",
    "    \"\"\"\n",
    "    if height < 3:\n",
    "        print(\"Height must be at least 3 to display a proper tree.\")\n",
    "        return\n",
    "\n",
    "    tree_str = \"\"\"\n",
    "  *\n",
    " ***\n",
    "*****\n",
    "\"\"\"\n",
    "    trunk_str = \"  |\\n\" * (height // 3)  # Use integer division for trunk height\n",
    "    print(tree_str + trunk_str)\n",
    "\n",
    "# Example usage\n",
    "christmas_tree_no_loops(9)"
   ]
  },
  {
   "cell_type": "code",
   "execution_count": 7,
   "id": "9dd18ad9",
   "metadata": {},
   "outputs": [
    {
     "name": "stdout",
     "output_type": "stream",
     "text": [
      "   *   \n",
      "  ***  \n",
      " ***** \n",
      "*******\n",
      "   |   \n"
     ]
    }
   ],
   "source": [
    "#自訂一個function,必需列印出聖誕樹,不使用迴圈,只要使用純print,要有樹葉和樹幹\n",
    "#todo:實作function 列印聖誕樹    \n",
    "\n",
    "def print_christmas_tree():\n",
    "    # 樹葉部分\n",
    "    print(\"   *   \")\n",
    "    print(\"  ***  \")\n",
    "    print(\" ***** \")\n",
    "    print(\"*******\")\n",
    "    # 樹幹部分\n",
    "    print(\"   |   \")\n",
    "\n",
    "# 呼叫函式，列印聖誕樹\n",
    "print_christmas_tree()"
   ]
  },
  {
   "cell_type": "code",
   "execution_count": 8,
   "id": "a5b2445b",
   "metadata": {},
   "outputs": [
    {
     "name": "stdout",
     "output_type": "stream",
     "text": [
      "   *   \n",
      "  ***  \n",
      " ***** \n",
      "*******\n",
      "   |   \n"
     ]
    }
   ],
   "source": [
    "print_christmas_tree()"
   ]
  },
  {
   "cell_type": "code",
   "execution_count": 3,
   "id": "23276cc2",
   "metadata": {},
   "outputs": [
    {
     "name": "stdout",
     "output_type": "stream",
     "text": [
      "圓面積 = 12.57 ..\n",
      "圓周長 = 12.57 ..\n",
      "2025-09-12 22:28:24.584808\n"
     ]
    }
   ],
   "source": [
    "import math\n",
    "import datetime\n",
    "\n",
    "# Python 程式碼是用來計算圓形的面積和圓周長\n",
    "def calculate_circle(radius):\n",
    "    # 計算圓的面積。公式是 π×半徑 **2\n",
    "    area = math.pi* radius **2\n",
    "    # 計算圓的圓周長。公式是 2×π×半徑\n",
    "    circumference = 2 * math.pi * radius\n",
    "    # 函數會返回計算出來的面積和圓周長\n",
    "    return area, circumference\n",
    "\n",
    "radius = 5\n",
    "radius = float(input(\"請輸入圓的半徑: \"))\n",
    "area, circumference = calculate_circle(radius)\n",
    "print(f\"圓面積 = {area:.2f} ..\")\n",
    "print(f\"圓周長 = {circumference:.2f} ..\")\n",
    "print(datetime.datetime.now())"
   ]
  },
  {
   "cell_type": "code",
   "execution_count": 4,
   "id": "2cbfca80",
   "metadata": {},
   "outputs": [
    {
     "name": "stdout",
     "output_type": "stream",
     "text": [
      "   *   \n",
      "  ***  \n",
      " ***** \n",
      "*******\n",
      "   |   \n",
      "2025-09-12 22:28:48.277859\n"
     ]
    }
   ],
   "source": [
    "# 用最簡單的 print 列印聖誕樹（樹葉和樹幹）\n",
    "import datetime\n",
    "print(\"   *   \")\n",
    "print(\"  ***  \")\n",
    "print(\" ***** \")\n",
    "print(\"*******\")\n",
    "print(\"   |   \")\n",
    "print(datetime.datetime.now())\n"
   ]
  },
  {
   "cell_type": "markdown",
   "id": "9a0ed4cf",
   "metadata": {},
   "source": [
    "Gemini Code Assist ,, google.geminicodeassist\n",
    "Gemini CLI Companion ,, google.gemini-cli-vscode-ide-companion\n"
   ]
  }
 ],
 "metadata": {
  "kernelspec": {
   "display_name": "langchain2",
   "language": "python",
   "name": "python3"
  },
  "language_info": {
   "codemirror_mode": {
    "name": "ipython",
    "version": 3
   },
   "file_extension": ".py",
   "mimetype": "text/x-python",
   "name": "python",
   "nbconvert_exporter": "python",
   "pygments_lexer": "ipython3",
   "version": "3.11.13"
  }
 },
 "nbformat": 4,
 "nbformat_minor": 5
}
