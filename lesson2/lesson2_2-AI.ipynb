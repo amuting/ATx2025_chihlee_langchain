{
 "cells": [
  {
   "cell_type": "markdown",
   "id": "e616e025",
   "metadata": {},
   "source": [
    "##### 判斷 讓程式碼有智慧\n",
    "if bool(1):\n",
    "    print(\"True\")\n",
    "else:\n",
    "    print(\"False\")\n",
    "\n",
    "\n",
    "比較運算子或邏輯運算子\n"
   ]
  },
  {
   "cell_type": "code",
   "execution_count": 1,
   "id": "008e7adb",
   "metadata": {},
   "outputs": [
    {
     "name": "stdout",
     "output_type": "stream",
     "text": [
      "True\n"
     ]
    }
   ],
   "source": [
    "if bool(1):\n",
    "    print(\"True\")\n",
    "else:\n",
    "    print(\"False\")"
   ]
  },
  {
   "cell_type": "code",
   "execution_count": 3,
   "id": "c90154d0",
   "metadata": {},
   "outputs": [
    {
     "data": {
      "text/plain": [
       "(True, False)"
      ]
     },
     "execution_count": 3,
     "metadata": {},
     "output_type": "execute_result"
    }
   ],
   "source": [
    "bool(1),bool(0)"
   ]
  },
  {
   "cell_type": "code",
   "execution_count": 6,
   "id": "fe4e31ec",
   "metadata": {},
   "outputs": [
    {
     "name": "stdout",
     "output_type": "stream",
     "text": [
      "robert\n",
      "is nice\n",
      "robert\n",
      "is not nice\n"
     ]
    }
   ],
   "source": [
    "# type,可有可無\n",
    "is_nice:bool = True\n",
    "print(\"robert\")\n",
    "#單項選擇   \n",
    "if is_nice:\n",
    "    print(\"is nice\")\n",
    "else:\n",
    "    print(\"is not nice\")\n",
    "\n",
    "is_nice:bool = False\n",
    "print(\"robert\")\n",
    "#雙向選擇\n",
    "if is_nice:\n",
    "    print(\"is nice\")\n",
    "else:\n",
    "    print(\"is not nice\")"
   ]
  },
  {
   "cell_type": "code",
   "execution_count": 7,
   "id": "741c836b",
   "metadata": {},
   "outputs": [
    {
     "name": "stdout",
     "output_type": "stream",
     "text": [
      "及格\n"
     ]
    }
   ],
   "source": [
    "scores = 85\n",
    "if scores >= 60:\n",
    "    print(\"及格\")\n",
    "else:\n",
    "    print(\"不及格\")\n"
   ]
  },
  {
   "cell_type": "code",
   "execution_count": 2,
   "id": "3fce86a2",
   "metadata": {},
   "outputs": [
    {
     "name": "stdout",
     "output_type": "stream",
     "text": [
      "良好\n"
     ]
    }
   ],
   "source": [
    "# 成績判斷\n",
    "score = 85\n",
    "\n",
    "if score >= 90:\n",
    "    print(\"優秀\")\n",
    "elif score >= 80:\n",
    "    print(\"良好\")\n",
    "elif score >= 70:\n",
    "    print(\"中等\")\n",
    "else:\n",
    "    print(\"需要努力\")"
   ]
  },
  {
   "cell_type": "code",
   "execution_count": 4,
   "id": "b54b834d",
   "metadata": {},
   "outputs": [
    {
     "name": "stdout",
     "output_type": "stream",
     "text": [
      "天氣溫暖\n"
     ]
    }
   ],
   "source": [
    "\n",
    "# if-elif-else 語句\n",
    "temperature = 25\n",
    "\n",
    "if temperature > 30:\n",
    "    print(\"天氣很熱\")\n",
    "elif temperature > 20:\n",
    "    print(\"天氣溫暖\")\n",
    "elif temperature > 10:\n",
    "    print(\"天氣涼爽\")\n",
    "else:\n",
    "    print(\"天氣寒冷\")"
   ]
  }
 ],
 "metadata": {
  "kernelspec": {
   "display_name": "langChain",
   "language": "python",
   "name": "python3"
  },
  "language_info": {
   "codemirror_mode": {
    "name": "ipython",
    "version": 3
   },
   "file_extension": ".py",
   "mimetype": "text/x-python",
   "name": "python",
   "nbconvert_exporter": "python",
   "pygments_lexer": "ipython3",
   "version": "3.11.13"
  }
 },
 "nbformat": 4,
 "nbformat_minor": 5
}
